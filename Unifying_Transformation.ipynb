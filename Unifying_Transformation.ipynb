{
  "nbformat": 4,
  "nbformat_minor": 0,
  "metadata": {
    "colab": {
      "provenance": []
    },
    "kernelspec": {
      "name": "python3",
      "display_name": "Python 3"
    },
    "language_info": {
      "name": "python"
    }
  },
  "cells": [
    {
      "cell_type": "markdown",
      "source": [
        "# DataFrames"
      ],
      "metadata": {
        "id": "QTJ8bu7sRBnc"
      }
    },
    {
      "cell_type": "code",
      "source": [
        "import pandas as pd"
      ],
      "metadata": {
        "id": "VdCXEcc0RfH3"
      },
      "execution_count": 4,
      "outputs": []
    },
    {
      "cell_type": "code",
      "execution_count": 5,
      "metadata": {
        "id": "rsTyYWaeQ7cg"
      },
      "outputs": [],
      "source": [
        "data = {\n",
        "    'name': ['Xavier', 'Ann', 'Jana', 'Yi', 'Robin', 'Amal', 'Nori'],\n",
        "    'city': ['Mexico City', 'Toronto', 'Prague', 'Shanghai',\n",
        "             'Manchester', 'Cairo', 'Osaka'],\n",
        "    'age': [41, 28, 33, 34, 38, 31, 37],\n",
        "    'py-score': [88.0, 79.0, 81.0, 80.0, 68.0, 61.0, 84.0]\n",
        "}\n",
        "\n",
        "row_labels = [101, 102, 103, 104, 105, 106, 107]"
      ]
    },
    {
      "cell_type": "code",
      "source": [
        "df = pd.DataFrame(data=data, index=row_labels)\n",
        "df"
      ],
      "metadata": {
        "colab": {
          "base_uri": "https://localhost:8080/",
          "height": 269
        },
        "id": "4gZ5b1_8RdR4",
        "outputId": "98f4fe1b-2be2-42de-b1da-65c92729b98c"
      },
      "execution_count": 6,
      "outputs": [
        {
          "output_type": "execute_result",
          "data": {
            "text/plain": [
              "       name         city  age  py-score\n",
              "101  Xavier  Mexico City   41      88.0\n",
              "102     Ann      Toronto   28      79.0\n",
              "103    Jana       Prague   33      81.0\n",
              "104      Yi     Shanghai   34      80.0\n",
              "105   Robin   Manchester   38      68.0\n",
              "106    Amal        Cairo   31      61.0\n",
              "107    Nori        Osaka   37      84.0"
            ],
            "text/html": [
              "\n",
              "  <div id=\"df-3ee0292b-5ece-4a9e-80a6-34f73355bc37\" class=\"colab-df-container\">\n",
              "    <div>\n",
              "<style scoped>\n",
              "    .dataframe tbody tr th:only-of-type {\n",
              "        vertical-align: middle;\n",
              "    }\n",
              "\n",
              "    .dataframe tbody tr th {\n",
              "        vertical-align: top;\n",
              "    }\n",
              "\n",
              "    .dataframe thead th {\n",
              "        text-align: right;\n",
              "    }\n",
              "</style>\n",
              "<table border=\"1\" class=\"dataframe\">\n",
              "  <thead>\n",
              "    <tr style=\"text-align: right;\">\n",
              "      <th></th>\n",
              "      <th>name</th>\n",
              "      <th>city</th>\n",
              "      <th>age</th>\n",
              "      <th>py-score</th>\n",
              "    </tr>\n",
              "  </thead>\n",
              "  <tbody>\n",
              "    <tr>\n",
              "      <th>101</th>\n",
              "      <td>Xavier</td>\n",
              "      <td>Mexico City</td>\n",
              "      <td>41</td>\n",
              "      <td>88.0</td>\n",
              "    </tr>\n",
              "    <tr>\n",
              "      <th>102</th>\n",
              "      <td>Ann</td>\n",
              "      <td>Toronto</td>\n",
              "      <td>28</td>\n",
              "      <td>79.0</td>\n",
              "    </tr>\n",
              "    <tr>\n",
              "      <th>103</th>\n",
              "      <td>Jana</td>\n",
              "      <td>Prague</td>\n",
              "      <td>33</td>\n",
              "      <td>81.0</td>\n",
              "    </tr>\n",
              "    <tr>\n",
              "      <th>104</th>\n",
              "      <td>Yi</td>\n",
              "      <td>Shanghai</td>\n",
              "      <td>34</td>\n",
              "      <td>80.0</td>\n",
              "    </tr>\n",
              "    <tr>\n",
              "      <th>105</th>\n",
              "      <td>Robin</td>\n",
              "      <td>Manchester</td>\n",
              "      <td>38</td>\n",
              "      <td>68.0</td>\n",
              "    </tr>\n",
              "    <tr>\n",
              "      <th>106</th>\n",
              "      <td>Amal</td>\n",
              "      <td>Cairo</td>\n",
              "      <td>31</td>\n",
              "      <td>61.0</td>\n",
              "    </tr>\n",
              "    <tr>\n",
              "      <th>107</th>\n",
              "      <td>Nori</td>\n",
              "      <td>Osaka</td>\n",
              "      <td>37</td>\n",
              "      <td>84.0</td>\n",
              "    </tr>\n",
              "  </tbody>\n",
              "</table>\n",
              "</div>\n",
              "    <div class=\"colab-df-buttons\">\n",
              "\n",
              "  <div class=\"colab-df-container\">\n",
              "    <button class=\"colab-df-convert\" onclick=\"convertToInteractive('df-3ee0292b-5ece-4a9e-80a6-34f73355bc37')\"\n",
              "            title=\"Convert this dataframe to an interactive table.\"\n",
              "            style=\"display:none;\">\n",
              "\n",
              "  <svg xmlns=\"http://www.w3.org/2000/svg\" height=\"24px\" viewBox=\"0 -960 960 960\">\n",
              "    <path d=\"M120-120v-720h720v720H120Zm60-500h600v-160H180v160Zm220 220h160v-160H400v160Zm0 220h160v-160H400v160ZM180-400h160v-160H180v160Zm440 0h160v-160H620v160ZM180-180h160v-160H180v160Zm440 0h160v-160H620v160Z\"/>\n",
              "  </svg>\n",
              "    </button>\n",
              "\n",
              "  <style>\n",
              "    .colab-df-container {\n",
              "      display:flex;\n",
              "      gap: 12px;\n",
              "    }\n",
              "\n",
              "    .colab-df-convert {\n",
              "      background-color: #E8F0FE;\n",
              "      border: none;\n",
              "      border-radius: 50%;\n",
              "      cursor: pointer;\n",
              "      display: none;\n",
              "      fill: #1967D2;\n",
              "      height: 32px;\n",
              "      padding: 0 0 0 0;\n",
              "      width: 32px;\n",
              "    }\n",
              "\n",
              "    .colab-df-convert:hover {\n",
              "      background-color: #E2EBFA;\n",
              "      box-shadow: 0px 1px 2px rgba(60, 64, 67, 0.3), 0px 1px 3px 1px rgba(60, 64, 67, 0.15);\n",
              "      fill: #174EA6;\n",
              "    }\n",
              "\n",
              "    .colab-df-buttons div {\n",
              "      margin-bottom: 4px;\n",
              "    }\n",
              "\n",
              "    [theme=dark] .colab-df-convert {\n",
              "      background-color: #3B4455;\n",
              "      fill: #D2E3FC;\n",
              "    }\n",
              "\n",
              "    [theme=dark] .colab-df-convert:hover {\n",
              "      background-color: #434B5C;\n",
              "      box-shadow: 0px 1px 3px 1px rgba(0, 0, 0, 0.15);\n",
              "      filter: drop-shadow(0px 1px 2px rgba(0, 0, 0, 0.3));\n",
              "      fill: #FFFFFF;\n",
              "    }\n",
              "  </style>\n",
              "\n",
              "    <script>\n",
              "      const buttonEl =\n",
              "        document.querySelector('#df-3ee0292b-5ece-4a9e-80a6-34f73355bc37 button.colab-df-convert');\n",
              "      buttonEl.style.display =\n",
              "        google.colab.kernel.accessAllowed ? 'block' : 'none';\n",
              "\n",
              "      async function convertToInteractive(key) {\n",
              "        const element = document.querySelector('#df-3ee0292b-5ece-4a9e-80a6-34f73355bc37');\n",
              "        const dataTable =\n",
              "          await google.colab.kernel.invokeFunction('convertToInteractive',\n",
              "                                                    [key], {});\n",
              "        if (!dataTable) return;\n",
              "\n",
              "        const docLinkHtml = 'Like what you see? Visit the ' +\n",
              "          '<a target=\"_blank\" href=https://colab.research.google.com/notebooks/data_table.ipynb>data table notebook</a>'\n",
              "          + ' to learn more about interactive tables.';\n",
              "        element.innerHTML = '';\n",
              "        dataTable['output_type'] = 'display_data';\n",
              "        await google.colab.output.renderOutput(dataTable, element);\n",
              "        const docLink = document.createElement('div');\n",
              "        docLink.innerHTML = docLinkHtml;\n",
              "        element.appendChild(docLink);\n",
              "      }\n",
              "    </script>\n",
              "  </div>\n",
              "\n",
              "\n",
              "<div id=\"df-64af7667-9e5a-4523-a6df-15652921d1d3\">\n",
              "  <button class=\"colab-df-quickchart\" onclick=\"quickchart('df-64af7667-9e5a-4523-a6df-15652921d1d3')\"\n",
              "            title=\"Suggest charts\"\n",
              "            style=\"display:none;\">\n",
              "\n",
              "<svg xmlns=\"http://www.w3.org/2000/svg\" height=\"24px\"viewBox=\"0 0 24 24\"\n",
              "     width=\"24px\">\n",
              "    <g>\n",
              "        <path d=\"M19 3H5c-1.1 0-2 .9-2 2v14c0 1.1.9 2 2 2h14c1.1 0 2-.9 2-2V5c0-1.1-.9-2-2-2zM9 17H7v-7h2v7zm4 0h-2V7h2v10zm4 0h-2v-4h2v4z\"/>\n",
              "    </g>\n",
              "</svg>\n",
              "  </button>\n",
              "\n",
              "<style>\n",
              "  .colab-df-quickchart {\n",
              "      --bg-color: #E8F0FE;\n",
              "      --fill-color: #1967D2;\n",
              "      --hover-bg-color: #E2EBFA;\n",
              "      --hover-fill-color: #174EA6;\n",
              "      --disabled-fill-color: #AAA;\n",
              "      --disabled-bg-color: #DDD;\n",
              "  }\n",
              "\n",
              "  [theme=dark] .colab-df-quickchart {\n",
              "      --bg-color: #3B4455;\n",
              "      --fill-color: #D2E3FC;\n",
              "      --hover-bg-color: #434B5C;\n",
              "      --hover-fill-color: #FFFFFF;\n",
              "      --disabled-bg-color: #3B4455;\n",
              "      --disabled-fill-color: #666;\n",
              "  }\n",
              "\n",
              "  .colab-df-quickchart {\n",
              "    background-color: var(--bg-color);\n",
              "    border: none;\n",
              "    border-radius: 50%;\n",
              "    cursor: pointer;\n",
              "    display: none;\n",
              "    fill: var(--fill-color);\n",
              "    height: 32px;\n",
              "    padding: 0;\n",
              "    width: 32px;\n",
              "  }\n",
              "\n",
              "  .colab-df-quickchart:hover {\n",
              "    background-color: var(--hover-bg-color);\n",
              "    box-shadow: 0 1px 2px rgba(60, 64, 67, 0.3), 0 1px 3px 1px rgba(60, 64, 67, 0.15);\n",
              "    fill: var(--button-hover-fill-color);\n",
              "  }\n",
              "\n",
              "  .colab-df-quickchart-complete:disabled,\n",
              "  .colab-df-quickchart-complete:disabled:hover {\n",
              "    background-color: var(--disabled-bg-color);\n",
              "    fill: var(--disabled-fill-color);\n",
              "    box-shadow: none;\n",
              "  }\n",
              "\n",
              "  .colab-df-spinner {\n",
              "    border: 2px solid var(--fill-color);\n",
              "    border-color: transparent;\n",
              "    border-bottom-color: var(--fill-color);\n",
              "    animation:\n",
              "      spin 1s steps(1) infinite;\n",
              "  }\n",
              "\n",
              "  @keyframes spin {\n",
              "    0% {\n",
              "      border-color: transparent;\n",
              "      border-bottom-color: var(--fill-color);\n",
              "      border-left-color: var(--fill-color);\n",
              "    }\n",
              "    20% {\n",
              "      border-color: transparent;\n",
              "      border-left-color: var(--fill-color);\n",
              "      border-top-color: var(--fill-color);\n",
              "    }\n",
              "    30% {\n",
              "      border-color: transparent;\n",
              "      border-left-color: var(--fill-color);\n",
              "      border-top-color: var(--fill-color);\n",
              "      border-right-color: var(--fill-color);\n",
              "    }\n",
              "    40% {\n",
              "      border-color: transparent;\n",
              "      border-right-color: var(--fill-color);\n",
              "      border-top-color: var(--fill-color);\n",
              "    }\n",
              "    60% {\n",
              "      border-color: transparent;\n",
              "      border-right-color: var(--fill-color);\n",
              "    }\n",
              "    80% {\n",
              "      border-color: transparent;\n",
              "      border-right-color: var(--fill-color);\n",
              "      border-bottom-color: var(--fill-color);\n",
              "    }\n",
              "    90% {\n",
              "      border-color: transparent;\n",
              "      border-bottom-color: var(--fill-color);\n",
              "    }\n",
              "  }\n",
              "</style>\n",
              "\n",
              "  <script>\n",
              "    async function quickchart(key) {\n",
              "      const quickchartButtonEl =\n",
              "        document.querySelector('#' + key + ' button');\n",
              "      quickchartButtonEl.disabled = true;  // To prevent multiple clicks.\n",
              "      quickchartButtonEl.classList.add('colab-df-spinner');\n",
              "      try {\n",
              "        const charts = await google.colab.kernel.invokeFunction(\n",
              "            'suggestCharts', [key], {});\n",
              "      } catch (error) {\n",
              "        console.error('Error during call to suggestCharts:', error);\n",
              "      }\n",
              "      quickchartButtonEl.classList.remove('colab-df-spinner');\n",
              "      quickchartButtonEl.classList.add('colab-df-quickchart-complete');\n",
              "    }\n",
              "    (() => {\n",
              "      let quickchartButtonEl =\n",
              "        document.querySelector('#df-64af7667-9e5a-4523-a6df-15652921d1d3 button');\n",
              "      quickchartButtonEl.style.display =\n",
              "        google.colab.kernel.accessAllowed ? 'block' : 'none';\n",
              "    })();\n",
              "  </script>\n",
              "</div>\n",
              "\n",
              "  <div id=\"id_b5436f4e-c29c-4121-bd6a-830eac65399f\">\n",
              "    <style>\n",
              "      .colab-df-generate {\n",
              "        background-color: #E8F0FE;\n",
              "        border: none;\n",
              "        border-radius: 50%;\n",
              "        cursor: pointer;\n",
              "        display: none;\n",
              "        fill: #1967D2;\n",
              "        height: 32px;\n",
              "        padding: 0 0 0 0;\n",
              "        width: 32px;\n",
              "      }\n",
              "\n",
              "      .colab-df-generate:hover {\n",
              "        background-color: #E2EBFA;\n",
              "        box-shadow: 0px 1px 2px rgba(60, 64, 67, 0.3), 0px 1px 3px 1px rgba(60, 64, 67, 0.15);\n",
              "        fill: #174EA6;\n",
              "      }\n",
              "\n",
              "      [theme=dark] .colab-df-generate {\n",
              "        background-color: #3B4455;\n",
              "        fill: #D2E3FC;\n",
              "      }\n",
              "\n",
              "      [theme=dark] .colab-df-generate:hover {\n",
              "        background-color: #434B5C;\n",
              "        box-shadow: 0px 1px 3px 1px rgba(0, 0, 0, 0.15);\n",
              "        filter: drop-shadow(0px 1px 2px rgba(0, 0, 0, 0.3));\n",
              "        fill: #FFFFFF;\n",
              "      }\n",
              "    </style>\n",
              "    <button class=\"colab-df-generate\" onclick=\"generateWithVariable('df')\"\n",
              "            title=\"Generate code using this dataframe.\"\n",
              "            style=\"display:none;\">\n",
              "\n",
              "  <svg xmlns=\"http://www.w3.org/2000/svg\" height=\"24px\"viewBox=\"0 0 24 24\"\n",
              "       width=\"24px\">\n",
              "    <path d=\"M7,19H8.4L18.45,9,17,7.55,7,17.6ZM5,21V16.75L18.45,3.32a2,2,0,0,1,2.83,0l1.4,1.43a1.91,1.91,0,0,1,.58,1.4,1.91,1.91,0,0,1-.58,1.4L9.25,21ZM18.45,9,17,7.55Zm-12,3A5.31,5.31,0,0,0,4.9,8.1,5.31,5.31,0,0,0,1,6.5,5.31,5.31,0,0,0,4.9,4.9,5.31,5.31,0,0,0,6.5,1,5.31,5.31,0,0,0,8.1,4.9,5.31,5.31,0,0,0,12,6.5,5.46,5.46,0,0,0,6.5,12Z\"/>\n",
              "  </svg>\n",
              "    </button>\n",
              "    <script>\n",
              "      (() => {\n",
              "      const buttonEl =\n",
              "        document.querySelector('#id_b5436f4e-c29c-4121-bd6a-830eac65399f button.colab-df-generate');\n",
              "      buttonEl.style.display =\n",
              "        google.colab.kernel.accessAllowed ? 'block' : 'none';\n",
              "\n",
              "      buttonEl.onclick = () => {\n",
              "        google.colab.notebook.generateWithVariable('df');\n",
              "      }\n",
              "      })();\n",
              "    </script>\n",
              "  </div>\n",
              "\n",
              "    </div>\n",
              "  </div>\n"
            ],
            "application/vnd.google.colaboratory.intrinsic+json": {
              "type": "dataframe",
              "variable_name": "df",
              "summary": "{\n  \"name\": \"df\",\n  \"rows\": 7,\n  \"fields\": [\n    {\n      \"column\": \"name\",\n      \"properties\": {\n        \"dtype\": \"string\",\n        \"num_unique_values\": 7,\n        \"samples\": [\n          \"Xavier\",\n          \"Ann\",\n          \"Amal\"\n        ],\n        \"semantic_type\": \"\",\n        \"description\": \"\"\n      }\n    },\n    {\n      \"column\": \"city\",\n      \"properties\": {\n        \"dtype\": \"string\",\n        \"num_unique_values\": 7,\n        \"samples\": [\n          \"Mexico City\",\n          \"Toronto\",\n          \"Cairo\"\n        ],\n        \"semantic_type\": \"\",\n        \"description\": \"\"\n      }\n    },\n    {\n      \"column\": \"age\",\n      \"properties\": {\n        \"dtype\": \"number\",\n        \"std\": 4,\n        \"min\": 28,\n        \"max\": 41,\n        \"num_unique_values\": 7,\n        \"samples\": [\n          41,\n          28,\n          31\n        ],\n        \"semantic_type\": \"\",\n        \"description\": \"\"\n      }\n    },\n    {\n      \"column\": \"py-score\",\n      \"properties\": {\n        \"dtype\": \"number\",\n        \"std\": 9.446591726019244,\n        \"min\": 61.0,\n        \"max\": 88.0,\n        \"num_unique_values\": 7,\n        \"samples\": [\n          88.0,\n          79.0,\n          61.0\n        ],\n        \"semantic_type\": \"\",\n        \"description\": \"\"\n      }\n    }\n  ]\n}"
            }
          },
          "metadata": {},
          "execution_count": 6
        }
      ]
    },
    {
      "cell_type": "markdown",
      "source": [
        "# Iterating Over a pandas DataFrame\n",
        "As you learned earlier, a DataFrame’s row and column labels can be retrieved as sequences with .index and .columns. You can use this feature to iterate over labels and get or set data values. However, pandas provides several more convenient methods for iteration:\n",
        "\n",
        ".items() to iterate over columns\n",
        ".iterrows() to iterate over rows\n",
        ".itertuples() to iterate over rows and get named tuples\n",
        "With .items() and .iteritems(), you iterate over the columns of a pandas DataFrame. Each iteration yields a tuple with the name of the column and the column data as a Series object:"
      ],
      "metadata": {
        "id": "1HvLc1MHRN9f"
      }
    },
    {
      "cell_type": "code",
      "source": [
        "for col_label, col in df.items():\n",
        "    print(col_label, col, sep='\\n', end='\\n\\n')\n"
      ],
      "metadata": {
        "colab": {
          "base_uri": "https://localhost:8080/"
        },
        "id": "4LvrxhucRGvN",
        "outputId": "fb828bc6-cc21-45ea-fb6d-c28531eeca81"
      },
      "execution_count": 12,
      "outputs": [
        {
          "output_type": "stream",
          "name": "stdout",
          "text": [
            "name\n",
            "101    Xavier\n",
            "102       Ann\n",
            "103      Jana\n",
            "104        Yi\n",
            "105     Robin\n",
            "106      Amal\n",
            "107      Nori\n",
            "Name: name, dtype: object\n",
            "\n",
            "city\n",
            "101    Mexico City\n",
            "102        Toronto\n",
            "103         Prague\n",
            "104       Shanghai\n",
            "105     Manchester\n",
            "106          Cairo\n",
            "107          Osaka\n",
            "Name: city, dtype: object\n",
            "\n",
            "age\n",
            "101    41\n",
            "102    28\n",
            "103    33\n",
            "104    34\n",
            "105    38\n",
            "106    31\n",
            "107    37\n",
            "Name: age, dtype: int64\n",
            "\n",
            "py-score\n",
            "101    88.0\n",
            "102    79.0\n",
            "103    81.0\n",
            "104    80.0\n",
            "105    68.0\n",
            "106    61.0\n",
            "107    84.0\n",
            "Name: py-score, dtype: float64\n",
            "\n"
          ]
        }
      ]
    },
    {
      "cell_type": "markdown",
      "source": [
        "That’s how you use .items() and .iteritems().\n",
        "\n",
        "With .iterrows(), you iterate over the rows of a pandas DataFrame. Each iteration yields a tuple with the name of the row and the row data as a Series object:"
      ],
      "metadata": {
        "id": "y6-oJht6SlIG"
      }
    },
    {
      "cell_type": "code",
      "source": [
        "for row_label, row in df.iterrows():\n",
        "    print(row_label, row, sep='\\n', end='\\n\\n')"
      ],
      "metadata": {
        "colab": {
          "base_uri": "https://localhost:8080/"
        },
        "id": "spVh6bWARVZv",
        "outputId": "1c2b08e1-421d-4c44-f5f2-63737f4cc86f"
      },
      "execution_count": 13,
      "outputs": [
        {
          "output_type": "stream",
          "name": "stdout",
          "text": [
            "101\n",
            "name             Xavier\n",
            "city        Mexico City\n",
            "age                  41\n",
            "py-score           88.0\n",
            "Name: 101, dtype: object\n",
            "\n",
            "102\n",
            "name            Ann\n",
            "city        Toronto\n",
            "age              28\n",
            "py-score       79.0\n",
            "Name: 102, dtype: object\n",
            "\n",
            "103\n",
            "name          Jana\n",
            "city        Prague\n",
            "age             33\n",
            "py-score      81.0\n",
            "Name: 103, dtype: object\n",
            "\n",
            "104\n",
            "name              Yi\n",
            "city        Shanghai\n",
            "age               34\n",
            "py-score        80.0\n",
            "Name: 104, dtype: object\n",
            "\n",
            "105\n",
            "name             Robin\n",
            "city        Manchester\n",
            "age                 38\n",
            "py-score          68.0\n",
            "Name: 105, dtype: object\n",
            "\n",
            "106\n",
            "name         Amal\n",
            "city        Cairo\n",
            "age            31\n",
            "py-score     61.0\n",
            "Name: 106, dtype: object\n",
            "\n",
            "107\n",
            "name         Nori\n",
            "city        Osaka\n",
            "age            37\n",
            "py-score     84.0\n",
            "Name: 107, dtype: object\n",
            "\n"
          ]
        }
      ]
    },
    {
      "cell_type": "markdown",
      "source": [
        "That’s how you use .iterrows().\n",
        "\n",
        "Similarly, .itertuples() iterates over the rows and in each iteration yields a named tuple with (optionally) the index and data:"
      ],
      "metadata": {
        "id": "_CRLRKxwSY3L"
      }
    },
    {
      "cell_type": "code",
      "source": [
        "for row in df.loc[:, ['name', 'city', 'total']].itertuples():\n",
        "    print(row)"
      ],
      "metadata": {
        "id": "lu-3igseSMQz"
      },
      "execution_count": null,
      "outputs": []
    },
    {
      "cell_type": "markdown",
      "source": [
        "You can specify the name of the named tuple with the parameter name, which is set to 'pandas' by default. You can also specify whether to include row labels with index, which is set to True by default.\n",
        "\n"
      ],
      "metadata": {
        "id": "7_56PdBoSau-"
      }
    },
    {
      "cell_type": "markdown",
      "source": [
        "# Working With Time Series\n",
        "pandas excels at handling time series. Although this functionality is partly based on NumPy datetimes and timedeltas, pandas provides much more flexibility.\n",
        "\n",
        "## Creating DataFrames With Time-Series Labels\n",
        "In this section, you’ll create a pandas DataFrame using the hourly temperature data from a single day.\n",
        "\n",
        "You can start by creating a list (or tuple, NumPy array, or other data type) with the data values, which will be hourly temperatures given in degrees Celsius:"
      ],
      "metadata": {
        "id": "rLTYfmoGSv9f"
      }
    },
    {
      "cell_type": "code",
      "source": [
        "temp_c = [ 8.0,  7.1,  6.8,  6.4,  6.0,  5.4,  4.8,  5.0,\n",
        "           9.1, 12.8, 15.3, 19.1, 21.2, 22.1, 22.4, 23.1,\n",
        "          21.0, 17.9, 15.5, 14.4, 11.9, 11.0, 10.2,  9.1]"
      ],
      "metadata": {
        "id": "vXrkWe-oSe_4"
      },
      "execution_count": 14,
      "outputs": []
    },
    {
      "cell_type": "markdown",
      "source": [
        "Now you have the variable temp_c, which refers to the list of temperature values.\n",
        "\n",
        "The next step is to create a sequence of dates and times. pandas provides a very convenient function, date_range(), for this purpose:"
      ],
      "metadata": {
        "id": "_UHhuud8S4Sq"
      }
    },
    {
      "cell_type": "code",
      "source": [
        "dt = pd.date_range(start='2019-10-27 00:00:00.0', periods=24,\n",
        "                   freq='H')\n",
        "dt"
      ],
      "metadata": {
        "colab": {
          "base_uri": "https://localhost:8080/"
        },
        "id": "PBVwaOm8S4BQ",
        "outputId": "4998d2a3-ee6c-4e61-81cf-010c29f0dd40"
      },
      "execution_count": 15,
      "outputs": [
        {
          "output_type": "stream",
          "name": "stderr",
          "text": [
            "<ipython-input-15-0d81e8cc6129>:1: FutureWarning: 'H' is deprecated and will be removed in a future version, please use 'h' instead.\n",
            "  dt = pd.date_range(start='2019-10-27 00:00:00.0', periods=24,\n"
          ]
        },
        {
          "output_type": "execute_result",
          "data": {
            "text/plain": [
              "DatetimeIndex(['2019-10-27 00:00:00', '2019-10-27 01:00:00',\n",
              "               '2019-10-27 02:00:00', '2019-10-27 03:00:00',\n",
              "               '2019-10-27 04:00:00', '2019-10-27 05:00:00',\n",
              "               '2019-10-27 06:00:00', '2019-10-27 07:00:00',\n",
              "               '2019-10-27 08:00:00', '2019-10-27 09:00:00',\n",
              "               '2019-10-27 10:00:00', '2019-10-27 11:00:00',\n",
              "               '2019-10-27 12:00:00', '2019-10-27 13:00:00',\n",
              "               '2019-10-27 14:00:00', '2019-10-27 15:00:00',\n",
              "               '2019-10-27 16:00:00', '2019-10-27 17:00:00',\n",
              "               '2019-10-27 18:00:00', '2019-10-27 19:00:00',\n",
              "               '2019-10-27 20:00:00', '2019-10-27 21:00:00',\n",
              "               '2019-10-27 22:00:00', '2019-10-27 23:00:00'],\n",
              "              dtype='datetime64[ns]', freq='h')"
            ]
          },
          "metadata": {},
          "execution_count": 15
        }
      ]
    },
    {
      "cell_type": "markdown",
      "source": [
        "date_range() accepts the arguments that you use to specify the start or end of the range, number of periods, frequency, time zone, and more.\n",
        "\n",
        "Note: Although other options are available, pandas mostly uses the ISO 8601 date and time format by default.\n",
        "Now that you have the temperature values and the corresponding dates and times, you can create the DataFrame. In many cases, it’s convenient to use date-time values as the row labels:"
      ],
      "metadata": {
        "id": "PDFN6_sLTBhJ"
      }
    },
    {
      "cell_type": "code",
      "source": [
        "temp = pd.DataFrame(data={'temp_c': temp_c}, index=dt)\n",
        "temp"
      ],
      "metadata": {
        "colab": {
          "base_uri": "https://localhost:8080/",
          "height": 802
        },
        "id": "VweMNPNzS14d",
        "outputId": "44342499-dc27-4104-b228-a95b56118c6b"
      },
      "execution_count": 16,
      "outputs": [
        {
          "output_type": "execute_result",
          "data": {
            "text/plain": [
              "                     temp_c\n",
              "2019-10-27 00:00:00     8.0\n",
              "2019-10-27 01:00:00     7.1\n",
              "2019-10-27 02:00:00     6.8\n",
              "2019-10-27 03:00:00     6.4\n",
              "2019-10-27 04:00:00     6.0\n",
              "2019-10-27 05:00:00     5.4\n",
              "2019-10-27 06:00:00     4.8\n",
              "2019-10-27 07:00:00     5.0\n",
              "2019-10-27 08:00:00     9.1\n",
              "2019-10-27 09:00:00    12.8\n",
              "2019-10-27 10:00:00    15.3\n",
              "2019-10-27 11:00:00    19.1\n",
              "2019-10-27 12:00:00    21.2\n",
              "2019-10-27 13:00:00    22.1\n",
              "2019-10-27 14:00:00    22.4\n",
              "2019-10-27 15:00:00    23.1\n",
              "2019-10-27 16:00:00    21.0\n",
              "2019-10-27 17:00:00    17.9\n",
              "2019-10-27 18:00:00    15.5\n",
              "2019-10-27 19:00:00    14.4\n",
              "2019-10-27 20:00:00    11.9\n",
              "2019-10-27 21:00:00    11.0\n",
              "2019-10-27 22:00:00    10.2\n",
              "2019-10-27 23:00:00     9.1"
            ],
            "text/html": [
              "\n",
              "  <div id=\"df-27e1894a-00bd-4f0f-bed6-09dbd8458c52\" class=\"colab-df-container\">\n",
              "    <div>\n",
              "<style scoped>\n",
              "    .dataframe tbody tr th:only-of-type {\n",
              "        vertical-align: middle;\n",
              "    }\n",
              "\n",
              "    .dataframe tbody tr th {\n",
              "        vertical-align: top;\n",
              "    }\n",
              "\n",
              "    .dataframe thead th {\n",
              "        text-align: right;\n",
              "    }\n",
              "</style>\n",
              "<table border=\"1\" class=\"dataframe\">\n",
              "  <thead>\n",
              "    <tr style=\"text-align: right;\">\n",
              "      <th></th>\n",
              "      <th>temp_c</th>\n",
              "    </tr>\n",
              "  </thead>\n",
              "  <tbody>\n",
              "    <tr>\n",
              "      <th>2019-10-27 00:00:00</th>\n",
              "      <td>8.0</td>\n",
              "    </tr>\n",
              "    <tr>\n",
              "      <th>2019-10-27 01:00:00</th>\n",
              "      <td>7.1</td>\n",
              "    </tr>\n",
              "    <tr>\n",
              "      <th>2019-10-27 02:00:00</th>\n",
              "      <td>6.8</td>\n",
              "    </tr>\n",
              "    <tr>\n",
              "      <th>2019-10-27 03:00:00</th>\n",
              "      <td>6.4</td>\n",
              "    </tr>\n",
              "    <tr>\n",
              "      <th>2019-10-27 04:00:00</th>\n",
              "      <td>6.0</td>\n",
              "    </tr>\n",
              "    <tr>\n",
              "      <th>2019-10-27 05:00:00</th>\n",
              "      <td>5.4</td>\n",
              "    </tr>\n",
              "    <tr>\n",
              "      <th>2019-10-27 06:00:00</th>\n",
              "      <td>4.8</td>\n",
              "    </tr>\n",
              "    <tr>\n",
              "      <th>2019-10-27 07:00:00</th>\n",
              "      <td>5.0</td>\n",
              "    </tr>\n",
              "    <tr>\n",
              "      <th>2019-10-27 08:00:00</th>\n",
              "      <td>9.1</td>\n",
              "    </tr>\n",
              "    <tr>\n",
              "      <th>2019-10-27 09:00:00</th>\n",
              "      <td>12.8</td>\n",
              "    </tr>\n",
              "    <tr>\n",
              "      <th>2019-10-27 10:00:00</th>\n",
              "      <td>15.3</td>\n",
              "    </tr>\n",
              "    <tr>\n",
              "      <th>2019-10-27 11:00:00</th>\n",
              "      <td>19.1</td>\n",
              "    </tr>\n",
              "    <tr>\n",
              "      <th>2019-10-27 12:00:00</th>\n",
              "      <td>21.2</td>\n",
              "    </tr>\n",
              "    <tr>\n",
              "      <th>2019-10-27 13:00:00</th>\n",
              "      <td>22.1</td>\n",
              "    </tr>\n",
              "    <tr>\n",
              "      <th>2019-10-27 14:00:00</th>\n",
              "      <td>22.4</td>\n",
              "    </tr>\n",
              "    <tr>\n",
              "      <th>2019-10-27 15:00:00</th>\n",
              "      <td>23.1</td>\n",
              "    </tr>\n",
              "    <tr>\n",
              "      <th>2019-10-27 16:00:00</th>\n",
              "      <td>21.0</td>\n",
              "    </tr>\n",
              "    <tr>\n",
              "      <th>2019-10-27 17:00:00</th>\n",
              "      <td>17.9</td>\n",
              "    </tr>\n",
              "    <tr>\n",
              "      <th>2019-10-27 18:00:00</th>\n",
              "      <td>15.5</td>\n",
              "    </tr>\n",
              "    <tr>\n",
              "      <th>2019-10-27 19:00:00</th>\n",
              "      <td>14.4</td>\n",
              "    </tr>\n",
              "    <tr>\n",
              "      <th>2019-10-27 20:00:00</th>\n",
              "      <td>11.9</td>\n",
              "    </tr>\n",
              "    <tr>\n",
              "      <th>2019-10-27 21:00:00</th>\n",
              "      <td>11.0</td>\n",
              "    </tr>\n",
              "    <tr>\n",
              "      <th>2019-10-27 22:00:00</th>\n",
              "      <td>10.2</td>\n",
              "    </tr>\n",
              "    <tr>\n",
              "      <th>2019-10-27 23:00:00</th>\n",
              "      <td>9.1</td>\n",
              "    </tr>\n",
              "  </tbody>\n",
              "</table>\n",
              "</div>\n",
              "    <div class=\"colab-df-buttons\">\n",
              "\n",
              "  <div class=\"colab-df-container\">\n",
              "    <button class=\"colab-df-convert\" onclick=\"convertToInteractive('df-27e1894a-00bd-4f0f-bed6-09dbd8458c52')\"\n",
              "            title=\"Convert this dataframe to an interactive table.\"\n",
              "            style=\"display:none;\">\n",
              "\n",
              "  <svg xmlns=\"http://www.w3.org/2000/svg\" height=\"24px\" viewBox=\"0 -960 960 960\">\n",
              "    <path d=\"M120-120v-720h720v720H120Zm60-500h600v-160H180v160Zm220 220h160v-160H400v160Zm0 220h160v-160H400v160ZM180-400h160v-160H180v160Zm440 0h160v-160H620v160ZM180-180h160v-160H180v160Zm440 0h160v-160H620v160Z\"/>\n",
              "  </svg>\n",
              "    </button>\n",
              "\n",
              "  <style>\n",
              "    .colab-df-container {\n",
              "      display:flex;\n",
              "      gap: 12px;\n",
              "    }\n",
              "\n",
              "    .colab-df-convert {\n",
              "      background-color: #E8F0FE;\n",
              "      border: none;\n",
              "      border-radius: 50%;\n",
              "      cursor: pointer;\n",
              "      display: none;\n",
              "      fill: #1967D2;\n",
              "      height: 32px;\n",
              "      padding: 0 0 0 0;\n",
              "      width: 32px;\n",
              "    }\n",
              "\n",
              "    .colab-df-convert:hover {\n",
              "      background-color: #E2EBFA;\n",
              "      box-shadow: 0px 1px 2px rgba(60, 64, 67, 0.3), 0px 1px 3px 1px rgba(60, 64, 67, 0.15);\n",
              "      fill: #174EA6;\n",
              "    }\n",
              "\n",
              "    .colab-df-buttons div {\n",
              "      margin-bottom: 4px;\n",
              "    }\n",
              "\n",
              "    [theme=dark] .colab-df-convert {\n",
              "      background-color: #3B4455;\n",
              "      fill: #D2E3FC;\n",
              "    }\n",
              "\n",
              "    [theme=dark] .colab-df-convert:hover {\n",
              "      background-color: #434B5C;\n",
              "      box-shadow: 0px 1px 3px 1px rgba(0, 0, 0, 0.15);\n",
              "      filter: drop-shadow(0px 1px 2px rgba(0, 0, 0, 0.3));\n",
              "      fill: #FFFFFF;\n",
              "    }\n",
              "  </style>\n",
              "\n",
              "    <script>\n",
              "      const buttonEl =\n",
              "        document.querySelector('#df-27e1894a-00bd-4f0f-bed6-09dbd8458c52 button.colab-df-convert');\n",
              "      buttonEl.style.display =\n",
              "        google.colab.kernel.accessAllowed ? 'block' : 'none';\n",
              "\n",
              "      async function convertToInteractive(key) {\n",
              "        const element = document.querySelector('#df-27e1894a-00bd-4f0f-bed6-09dbd8458c52');\n",
              "        const dataTable =\n",
              "          await google.colab.kernel.invokeFunction('convertToInteractive',\n",
              "                                                    [key], {});\n",
              "        if (!dataTable) return;\n",
              "\n",
              "        const docLinkHtml = 'Like what you see? Visit the ' +\n",
              "          '<a target=\"_blank\" href=https://colab.research.google.com/notebooks/data_table.ipynb>data table notebook</a>'\n",
              "          + ' to learn more about interactive tables.';\n",
              "        element.innerHTML = '';\n",
              "        dataTable['output_type'] = 'display_data';\n",
              "        await google.colab.output.renderOutput(dataTable, element);\n",
              "        const docLink = document.createElement('div');\n",
              "        docLink.innerHTML = docLinkHtml;\n",
              "        element.appendChild(docLink);\n",
              "      }\n",
              "    </script>\n",
              "  </div>\n",
              "\n",
              "\n",
              "<div id=\"df-b9f2abfb-c3b6-48d2-80bf-6c40c4b2503b\">\n",
              "  <button class=\"colab-df-quickchart\" onclick=\"quickchart('df-b9f2abfb-c3b6-48d2-80bf-6c40c4b2503b')\"\n",
              "            title=\"Suggest charts\"\n",
              "            style=\"display:none;\">\n",
              "\n",
              "<svg xmlns=\"http://www.w3.org/2000/svg\" height=\"24px\"viewBox=\"0 0 24 24\"\n",
              "     width=\"24px\">\n",
              "    <g>\n",
              "        <path d=\"M19 3H5c-1.1 0-2 .9-2 2v14c0 1.1.9 2 2 2h14c1.1 0 2-.9 2-2V5c0-1.1-.9-2-2-2zM9 17H7v-7h2v7zm4 0h-2V7h2v10zm4 0h-2v-4h2v4z\"/>\n",
              "    </g>\n",
              "</svg>\n",
              "  </button>\n",
              "\n",
              "<style>\n",
              "  .colab-df-quickchart {\n",
              "      --bg-color: #E8F0FE;\n",
              "      --fill-color: #1967D2;\n",
              "      --hover-bg-color: #E2EBFA;\n",
              "      --hover-fill-color: #174EA6;\n",
              "      --disabled-fill-color: #AAA;\n",
              "      --disabled-bg-color: #DDD;\n",
              "  }\n",
              "\n",
              "  [theme=dark] .colab-df-quickchart {\n",
              "      --bg-color: #3B4455;\n",
              "      --fill-color: #D2E3FC;\n",
              "      --hover-bg-color: #434B5C;\n",
              "      --hover-fill-color: #FFFFFF;\n",
              "      --disabled-bg-color: #3B4455;\n",
              "      --disabled-fill-color: #666;\n",
              "  }\n",
              "\n",
              "  .colab-df-quickchart {\n",
              "    background-color: var(--bg-color);\n",
              "    border: none;\n",
              "    border-radius: 50%;\n",
              "    cursor: pointer;\n",
              "    display: none;\n",
              "    fill: var(--fill-color);\n",
              "    height: 32px;\n",
              "    padding: 0;\n",
              "    width: 32px;\n",
              "  }\n",
              "\n",
              "  .colab-df-quickchart:hover {\n",
              "    background-color: var(--hover-bg-color);\n",
              "    box-shadow: 0 1px 2px rgba(60, 64, 67, 0.3), 0 1px 3px 1px rgba(60, 64, 67, 0.15);\n",
              "    fill: var(--button-hover-fill-color);\n",
              "  }\n",
              "\n",
              "  .colab-df-quickchart-complete:disabled,\n",
              "  .colab-df-quickchart-complete:disabled:hover {\n",
              "    background-color: var(--disabled-bg-color);\n",
              "    fill: var(--disabled-fill-color);\n",
              "    box-shadow: none;\n",
              "  }\n",
              "\n",
              "  .colab-df-spinner {\n",
              "    border: 2px solid var(--fill-color);\n",
              "    border-color: transparent;\n",
              "    border-bottom-color: var(--fill-color);\n",
              "    animation:\n",
              "      spin 1s steps(1) infinite;\n",
              "  }\n",
              "\n",
              "  @keyframes spin {\n",
              "    0% {\n",
              "      border-color: transparent;\n",
              "      border-bottom-color: var(--fill-color);\n",
              "      border-left-color: var(--fill-color);\n",
              "    }\n",
              "    20% {\n",
              "      border-color: transparent;\n",
              "      border-left-color: var(--fill-color);\n",
              "      border-top-color: var(--fill-color);\n",
              "    }\n",
              "    30% {\n",
              "      border-color: transparent;\n",
              "      border-left-color: var(--fill-color);\n",
              "      border-top-color: var(--fill-color);\n",
              "      border-right-color: var(--fill-color);\n",
              "    }\n",
              "    40% {\n",
              "      border-color: transparent;\n",
              "      border-right-color: var(--fill-color);\n",
              "      border-top-color: var(--fill-color);\n",
              "    }\n",
              "    60% {\n",
              "      border-color: transparent;\n",
              "      border-right-color: var(--fill-color);\n",
              "    }\n",
              "    80% {\n",
              "      border-color: transparent;\n",
              "      border-right-color: var(--fill-color);\n",
              "      border-bottom-color: var(--fill-color);\n",
              "    }\n",
              "    90% {\n",
              "      border-color: transparent;\n",
              "      border-bottom-color: var(--fill-color);\n",
              "    }\n",
              "  }\n",
              "</style>\n",
              "\n",
              "  <script>\n",
              "    async function quickchart(key) {\n",
              "      const quickchartButtonEl =\n",
              "        document.querySelector('#' + key + ' button');\n",
              "      quickchartButtonEl.disabled = true;  // To prevent multiple clicks.\n",
              "      quickchartButtonEl.classList.add('colab-df-spinner');\n",
              "      try {\n",
              "        const charts = await google.colab.kernel.invokeFunction(\n",
              "            'suggestCharts', [key], {});\n",
              "      } catch (error) {\n",
              "        console.error('Error during call to suggestCharts:', error);\n",
              "      }\n",
              "      quickchartButtonEl.classList.remove('colab-df-spinner');\n",
              "      quickchartButtonEl.classList.add('colab-df-quickchart-complete');\n",
              "    }\n",
              "    (() => {\n",
              "      let quickchartButtonEl =\n",
              "        document.querySelector('#df-b9f2abfb-c3b6-48d2-80bf-6c40c4b2503b button');\n",
              "      quickchartButtonEl.style.display =\n",
              "        google.colab.kernel.accessAllowed ? 'block' : 'none';\n",
              "    })();\n",
              "  </script>\n",
              "</div>\n",
              "\n",
              "  <div id=\"id_8c56db50-c012-4a3b-91c5-1d45ddc97a33\">\n",
              "    <style>\n",
              "      .colab-df-generate {\n",
              "        background-color: #E8F0FE;\n",
              "        border: none;\n",
              "        border-radius: 50%;\n",
              "        cursor: pointer;\n",
              "        display: none;\n",
              "        fill: #1967D2;\n",
              "        height: 32px;\n",
              "        padding: 0 0 0 0;\n",
              "        width: 32px;\n",
              "      }\n",
              "\n",
              "      .colab-df-generate:hover {\n",
              "        background-color: #E2EBFA;\n",
              "        box-shadow: 0px 1px 2px rgba(60, 64, 67, 0.3), 0px 1px 3px 1px rgba(60, 64, 67, 0.15);\n",
              "        fill: #174EA6;\n",
              "      }\n",
              "\n",
              "      [theme=dark] .colab-df-generate {\n",
              "        background-color: #3B4455;\n",
              "        fill: #D2E3FC;\n",
              "      }\n",
              "\n",
              "      [theme=dark] .colab-df-generate:hover {\n",
              "        background-color: #434B5C;\n",
              "        box-shadow: 0px 1px 3px 1px rgba(0, 0, 0, 0.15);\n",
              "        filter: drop-shadow(0px 1px 2px rgba(0, 0, 0, 0.3));\n",
              "        fill: #FFFFFF;\n",
              "      }\n",
              "    </style>\n",
              "    <button class=\"colab-df-generate\" onclick=\"generateWithVariable('temp')\"\n",
              "            title=\"Generate code using this dataframe.\"\n",
              "            style=\"display:none;\">\n",
              "\n",
              "  <svg xmlns=\"http://www.w3.org/2000/svg\" height=\"24px\"viewBox=\"0 0 24 24\"\n",
              "       width=\"24px\">\n",
              "    <path d=\"M7,19H8.4L18.45,9,17,7.55,7,17.6ZM5,21V16.75L18.45,3.32a2,2,0,0,1,2.83,0l1.4,1.43a1.91,1.91,0,0,1,.58,1.4,1.91,1.91,0,0,1-.58,1.4L9.25,21ZM18.45,9,17,7.55Zm-12,3A5.31,5.31,0,0,0,4.9,8.1,5.31,5.31,0,0,0,1,6.5,5.31,5.31,0,0,0,4.9,4.9,5.31,5.31,0,0,0,6.5,1,5.31,5.31,0,0,0,8.1,4.9,5.31,5.31,0,0,0,12,6.5,5.46,5.46,0,0,0,6.5,12Z\"/>\n",
              "  </svg>\n",
              "    </button>\n",
              "    <script>\n",
              "      (() => {\n",
              "      const buttonEl =\n",
              "        document.querySelector('#id_8c56db50-c012-4a3b-91c5-1d45ddc97a33 button.colab-df-generate');\n",
              "      buttonEl.style.display =\n",
              "        google.colab.kernel.accessAllowed ? 'block' : 'none';\n",
              "\n",
              "      buttonEl.onclick = () => {\n",
              "        google.colab.notebook.generateWithVariable('temp');\n",
              "      }\n",
              "      })();\n",
              "    </script>\n",
              "  </div>\n",
              "\n",
              "    </div>\n",
              "  </div>\n"
            ],
            "application/vnd.google.colaboratory.intrinsic+json": {
              "type": "dataframe",
              "variable_name": "temp",
              "summary": "{\n  \"name\": \"temp\",\n  \"rows\": 24,\n  \"fields\": [\n    {\n      \"column\": \"temp_c\",\n      \"properties\": {\n        \"dtype\": \"number\",\n        \"std\": 6.258049888407498,\n        \"min\": 4.8,\n        \"max\": 23.1,\n        \"num_unique_values\": 23,\n        \"samples\": [\n          23.1,\n          12.8,\n          8.0\n        ],\n        \"semantic_type\": \"\",\n        \"description\": \"\"\n      }\n    }\n  ]\n}"
            }
          },
          "metadata": {},
          "execution_count": 16
        }
      ]
    },
    {
      "cell_type": "markdown",
      "source": [
        "## Indexing and Slicing\n",
        "Once you have a pandas DataFrame with time-series data, you can conveniently apply slicing to get just a part of the information:"
      ],
      "metadata": {
        "id": "w3qSquDTTJ97"
      }
    },
    {
      "cell_type": "code",
      "source": [
        "temp['2019-10-27 05':'2019-10-27 14']"
      ],
      "metadata": {
        "colab": {
          "base_uri": "https://localhost:8080/",
          "height": 363
        },
        "id": "eFzfj-ZyTF3j",
        "outputId": "862bee87-7343-4943-d6b3-be9e27964a33"
      },
      "execution_count": 17,
      "outputs": [
        {
          "output_type": "execute_result",
          "data": {
            "text/plain": [
              "                     temp_c\n",
              "2019-10-27 05:00:00     5.4\n",
              "2019-10-27 06:00:00     4.8\n",
              "2019-10-27 07:00:00     5.0\n",
              "2019-10-27 08:00:00     9.1\n",
              "2019-10-27 09:00:00    12.8\n",
              "2019-10-27 10:00:00    15.3\n",
              "2019-10-27 11:00:00    19.1\n",
              "2019-10-27 12:00:00    21.2\n",
              "2019-10-27 13:00:00    22.1\n",
              "2019-10-27 14:00:00    22.4"
            ],
            "text/html": [
              "\n",
              "  <div id=\"df-717377f9-0229-4409-964b-aaec7f2ffee7\" class=\"colab-df-container\">\n",
              "    <div>\n",
              "<style scoped>\n",
              "    .dataframe tbody tr th:only-of-type {\n",
              "        vertical-align: middle;\n",
              "    }\n",
              "\n",
              "    .dataframe tbody tr th {\n",
              "        vertical-align: top;\n",
              "    }\n",
              "\n",
              "    .dataframe thead th {\n",
              "        text-align: right;\n",
              "    }\n",
              "</style>\n",
              "<table border=\"1\" class=\"dataframe\">\n",
              "  <thead>\n",
              "    <tr style=\"text-align: right;\">\n",
              "      <th></th>\n",
              "      <th>temp_c</th>\n",
              "    </tr>\n",
              "  </thead>\n",
              "  <tbody>\n",
              "    <tr>\n",
              "      <th>2019-10-27 05:00:00</th>\n",
              "      <td>5.4</td>\n",
              "    </tr>\n",
              "    <tr>\n",
              "      <th>2019-10-27 06:00:00</th>\n",
              "      <td>4.8</td>\n",
              "    </tr>\n",
              "    <tr>\n",
              "      <th>2019-10-27 07:00:00</th>\n",
              "      <td>5.0</td>\n",
              "    </tr>\n",
              "    <tr>\n",
              "      <th>2019-10-27 08:00:00</th>\n",
              "      <td>9.1</td>\n",
              "    </tr>\n",
              "    <tr>\n",
              "      <th>2019-10-27 09:00:00</th>\n",
              "      <td>12.8</td>\n",
              "    </tr>\n",
              "    <tr>\n",
              "      <th>2019-10-27 10:00:00</th>\n",
              "      <td>15.3</td>\n",
              "    </tr>\n",
              "    <tr>\n",
              "      <th>2019-10-27 11:00:00</th>\n",
              "      <td>19.1</td>\n",
              "    </tr>\n",
              "    <tr>\n",
              "      <th>2019-10-27 12:00:00</th>\n",
              "      <td>21.2</td>\n",
              "    </tr>\n",
              "    <tr>\n",
              "      <th>2019-10-27 13:00:00</th>\n",
              "      <td>22.1</td>\n",
              "    </tr>\n",
              "    <tr>\n",
              "      <th>2019-10-27 14:00:00</th>\n",
              "      <td>22.4</td>\n",
              "    </tr>\n",
              "  </tbody>\n",
              "</table>\n",
              "</div>\n",
              "    <div class=\"colab-df-buttons\">\n",
              "\n",
              "  <div class=\"colab-df-container\">\n",
              "    <button class=\"colab-df-convert\" onclick=\"convertToInteractive('df-717377f9-0229-4409-964b-aaec7f2ffee7')\"\n",
              "            title=\"Convert this dataframe to an interactive table.\"\n",
              "            style=\"display:none;\">\n",
              "\n",
              "  <svg xmlns=\"http://www.w3.org/2000/svg\" height=\"24px\" viewBox=\"0 -960 960 960\">\n",
              "    <path d=\"M120-120v-720h720v720H120Zm60-500h600v-160H180v160Zm220 220h160v-160H400v160Zm0 220h160v-160H400v160ZM180-400h160v-160H180v160Zm440 0h160v-160H620v160ZM180-180h160v-160H180v160Zm440 0h160v-160H620v160Z\"/>\n",
              "  </svg>\n",
              "    </button>\n",
              "\n",
              "  <style>\n",
              "    .colab-df-container {\n",
              "      display:flex;\n",
              "      gap: 12px;\n",
              "    }\n",
              "\n",
              "    .colab-df-convert {\n",
              "      background-color: #E8F0FE;\n",
              "      border: none;\n",
              "      border-radius: 50%;\n",
              "      cursor: pointer;\n",
              "      display: none;\n",
              "      fill: #1967D2;\n",
              "      height: 32px;\n",
              "      padding: 0 0 0 0;\n",
              "      width: 32px;\n",
              "    }\n",
              "\n",
              "    .colab-df-convert:hover {\n",
              "      background-color: #E2EBFA;\n",
              "      box-shadow: 0px 1px 2px rgba(60, 64, 67, 0.3), 0px 1px 3px 1px rgba(60, 64, 67, 0.15);\n",
              "      fill: #174EA6;\n",
              "    }\n",
              "\n",
              "    .colab-df-buttons div {\n",
              "      margin-bottom: 4px;\n",
              "    }\n",
              "\n",
              "    [theme=dark] .colab-df-convert {\n",
              "      background-color: #3B4455;\n",
              "      fill: #D2E3FC;\n",
              "    }\n",
              "\n",
              "    [theme=dark] .colab-df-convert:hover {\n",
              "      background-color: #434B5C;\n",
              "      box-shadow: 0px 1px 3px 1px rgba(0, 0, 0, 0.15);\n",
              "      filter: drop-shadow(0px 1px 2px rgba(0, 0, 0, 0.3));\n",
              "      fill: #FFFFFF;\n",
              "    }\n",
              "  </style>\n",
              "\n",
              "    <script>\n",
              "      const buttonEl =\n",
              "        document.querySelector('#df-717377f9-0229-4409-964b-aaec7f2ffee7 button.colab-df-convert');\n",
              "      buttonEl.style.display =\n",
              "        google.colab.kernel.accessAllowed ? 'block' : 'none';\n",
              "\n",
              "      async function convertToInteractive(key) {\n",
              "        const element = document.querySelector('#df-717377f9-0229-4409-964b-aaec7f2ffee7');\n",
              "        const dataTable =\n",
              "          await google.colab.kernel.invokeFunction('convertToInteractive',\n",
              "                                                    [key], {});\n",
              "        if (!dataTable) return;\n",
              "\n",
              "        const docLinkHtml = 'Like what you see? Visit the ' +\n",
              "          '<a target=\"_blank\" href=https://colab.research.google.com/notebooks/data_table.ipynb>data table notebook</a>'\n",
              "          + ' to learn more about interactive tables.';\n",
              "        element.innerHTML = '';\n",
              "        dataTable['output_type'] = 'display_data';\n",
              "        await google.colab.output.renderOutput(dataTable, element);\n",
              "        const docLink = document.createElement('div');\n",
              "        docLink.innerHTML = docLinkHtml;\n",
              "        element.appendChild(docLink);\n",
              "      }\n",
              "    </script>\n",
              "  </div>\n",
              "\n",
              "\n",
              "<div id=\"df-c3949767-2e7a-49ee-9aba-c92dde741ae8\">\n",
              "  <button class=\"colab-df-quickchart\" onclick=\"quickchart('df-c3949767-2e7a-49ee-9aba-c92dde741ae8')\"\n",
              "            title=\"Suggest charts\"\n",
              "            style=\"display:none;\">\n",
              "\n",
              "<svg xmlns=\"http://www.w3.org/2000/svg\" height=\"24px\"viewBox=\"0 0 24 24\"\n",
              "     width=\"24px\">\n",
              "    <g>\n",
              "        <path d=\"M19 3H5c-1.1 0-2 .9-2 2v14c0 1.1.9 2 2 2h14c1.1 0 2-.9 2-2V5c0-1.1-.9-2-2-2zM9 17H7v-7h2v7zm4 0h-2V7h2v10zm4 0h-2v-4h2v4z\"/>\n",
              "    </g>\n",
              "</svg>\n",
              "  </button>\n",
              "\n",
              "<style>\n",
              "  .colab-df-quickchart {\n",
              "      --bg-color: #E8F0FE;\n",
              "      --fill-color: #1967D2;\n",
              "      --hover-bg-color: #E2EBFA;\n",
              "      --hover-fill-color: #174EA6;\n",
              "      --disabled-fill-color: #AAA;\n",
              "      --disabled-bg-color: #DDD;\n",
              "  }\n",
              "\n",
              "  [theme=dark] .colab-df-quickchart {\n",
              "      --bg-color: #3B4455;\n",
              "      --fill-color: #D2E3FC;\n",
              "      --hover-bg-color: #434B5C;\n",
              "      --hover-fill-color: #FFFFFF;\n",
              "      --disabled-bg-color: #3B4455;\n",
              "      --disabled-fill-color: #666;\n",
              "  }\n",
              "\n",
              "  .colab-df-quickchart {\n",
              "    background-color: var(--bg-color);\n",
              "    border: none;\n",
              "    border-radius: 50%;\n",
              "    cursor: pointer;\n",
              "    display: none;\n",
              "    fill: var(--fill-color);\n",
              "    height: 32px;\n",
              "    padding: 0;\n",
              "    width: 32px;\n",
              "  }\n",
              "\n",
              "  .colab-df-quickchart:hover {\n",
              "    background-color: var(--hover-bg-color);\n",
              "    box-shadow: 0 1px 2px rgba(60, 64, 67, 0.3), 0 1px 3px 1px rgba(60, 64, 67, 0.15);\n",
              "    fill: var(--button-hover-fill-color);\n",
              "  }\n",
              "\n",
              "  .colab-df-quickchart-complete:disabled,\n",
              "  .colab-df-quickchart-complete:disabled:hover {\n",
              "    background-color: var(--disabled-bg-color);\n",
              "    fill: var(--disabled-fill-color);\n",
              "    box-shadow: none;\n",
              "  }\n",
              "\n",
              "  .colab-df-spinner {\n",
              "    border: 2px solid var(--fill-color);\n",
              "    border-color: transparent;\n",
              "    border-bottom-color: var(--fill-color);\n",
              "    animation:\n",
              "      spin 1s steps(1) infinite;\n",
              "  }\n",
              "\n",
              "  @keyframes spin {\n",
              "    0% {\n",
              "      border-color: transparent;\n",
              "      border-bottom-color: var(--fill-color);\n",
              "      border-left-color: var(--fill-color);\n",
              "    }\n",
              "    20% {\n",
              "      border-color: transparent;\n",
              "      border-left-color: var(--fill-color);\n",
              "      border-top-color: var(--fill-color);\n",
              "    }\n",
              "    30% {\n",
              "      border-color: transparent;\n",
              "      border-left-color: var(--fill-color);\n",
              "      border-top-color: var(--fill-color);\n",
              "      border-right-color: var(--fill-color);\n",
              "    }\n",
              "    40% {\n",
              "      border-color: transparent;\n",
              "      border-right-color: var(--fill-color);\n",
              "      border-top-color: var(--fill-color);\n",
              "    }\n",
              "    60% {\n",
              "      border-color: transparent;\n",
              "      border-right-color: var(--fill-color);\n",
              "    }\n",
              "    80% {\n",
              "      border-color: transparent;\n",
              "      border-right-color: var(--fill-color);\n",
              "      border-bottom-color: var(--fill-color);\n",
              "    }\n",
              "    90% {\n",
              "      border-color: transparent;\n",
              "      border-bottom-color: var(--fill-color);\n",
              "    }\n",
              "  }\n",
              "</style>\n",
              "\n",
              "  <script>\n",
              "    async function quickchart(key) {\n",
              "      const quickchartButtonEl =\n",
              "        document.querySelector('#' + key + ' button');\n",
              "      quickchartButtonEl.disabled = true;  // To prevent multiple clicks.\n",
              "      quickchartButtonEl.classList.add('colab-df-spinner');\n",
              "      try {\n",
              "        const charts = await google.colab.kernel.invokeFunction(\n",
              "            'suggestCharts', [key], {});\n",
              "      } catch (error) {\n",
              "        console.error('Error during call to suggestCharts:', error);\n",
              "      }\n",
              "      quickchartButtonEl.classList.remove('colab-df-spinner');\n",
              "      quickchartButtonEl.classList.add('colab-df-quickchart-complete');\n",
              "    }\n",
              "    (() => {\n",
              "      let quickchartButtonEl =\n",
              "        document.querySelector('#df-c3949767-2e7a-49ee-9aba-c92dde741ae8 button');\n",
              "      quickchartButtonEl.style.display =\n",
              "        google.colab.kernel.accessAllowed ? 'block' : 'none';\n",
              "    })();\n",
              "  </script>\n",
              "</div>\n",
              "\n",
              "    </div>\n",
              "  </div>\n"
            ],
            "application/vnd.google.colaboratory.intrinsic+json": {
              "type": "dataframe",
              "summary": "{\n  \"name\": \"temp['2019-10-27 05':'2019-10-27 14']\",\n  \"rows\": 10,\n  \"fields\": [\n    {\n      \"column\": \"temp_c\",\n      \"properties\": {\n        \"dtype\": \"number\",\n        \"std\": 7.302784856934146,\n        \"min\": 4.8,\n        \"max\": 22.4,\n        \"num_unique_values\": 10,\n        \"samples\": [\n          22.1,\n          4.8,\n          15.3\n        ],\n        \"semantic_type\": \"\",\n        \"description\": \"\"\n      }\n    }\n  ]\n}"
            }
          },
          "metadata": {},
          "execution_count": 17
        }
      ]
    },
    {
      "cell_type": "markdown",
      "source": [
        "This example shows how to extract the temperatures between 05:00 and 14:00 (5 a.m. and 2 p.m.). Although you’ve provided strings, pandas knows that your row labels are date-time values and interprets the strings as dates and times."
      ],
      "metadata": {
        "id": "IM84KSekTSqV"
      }
    },
    {
      "cell_type": "markdown",
      "source": [
        "## Resampling and Rolling\n",
        "You’ve just seen how to combine date-time row labels and use slicing to get the information you need from the time-series data. This is just the beginning. It gets better!\n",
        "\n",
        "If you want to split a day into four six-hour intervals and get the mean temperature for each interval, then you’re just one statement away from doing so. pandas provides the method .resample(), which you can combine with other methods such as .mean():"
      ],
      "metadata": {
        "id": "y6ntSbWoTVw2"
      }
    },
    {
      "cell_type": "code",
      "source": [
        "temp.resample(rule='6h').mean()"
      ],
      "metadata": {
        "colab": {
          "base_uri": "https://localhost:8080/",
          "height": 175
        },
        "id": "cKz_r6RVTNv9",
        "outputId": "d8716036-f281-4971-b8ad-c91c77bfb513"
      },
      "execution_count": 18,
      "outputs": [
        {
          "output_type": "execute_result",
          "data": {
            "text/plain": [
              "                        temp_c\n",
              "2019-10-27 00:00:00   6.616667\n",
              "2019-10-27 06:00:00  11.016667\n",
              "2019-10-27 12:00:00  21.283333\n",
              "2019-10-27 18:00:00  12.016667"
            ],
            "text/html": [
              "\n",
              "  <div id=\"df-e86c5fa0-613b-4ddc-90c4-a16a1a544975\" class=\"colab-df-container\">\n",
              "    <div>\n",
              "<style scoped>\n",
              "    .dataframe tbody tr th:only-of-type {\n",
              "        vertical-align: middle;\n",
              "    }\n",
              "\n",
              "    .dataframe tbody tr th {\n",
              "        vertical-align: top;\n",
              "    }\n",
              "\n",
              "    .dataframe thead th {\n",
              "        text-align: right;\n",
              "    }\n",
              "</style>\n",
              "<table border=\"1\" class=\"dataframe\">\n",
              "  <thead>\n",
              "    <tr style=\"text-align: right;\">\n",
              "      <th></th>\n",
              "      <th>temp_c</th>\n",
              "    </tr>\n",
              "  </thead>\n",
              "  <tbody>\n",
              "    <tr>\n",
              "      <th>2019-10-27 00:00:00</th>\n",
              "      <td>6.616667</td>\n",
              "    </tr>\n",
              "    <tr>\n",
              "      <th>2019-10-27 06:00:00</th>\n",
              "      <td>11.016667</td>\n",
              "    </tr>\n",
              "    <tr>\n",
              "      <th>2019-10-27 12:00:00</th>\n",
              "      <td>21.283333</td>\n",
              "    </tr>\n",
              "    <tr>\n",
              "      <th>2019-10-27 18:00:00</th>\n",
              "      <td>12.016667</td>\n",
              "    </tr>\n",
              "  </tbody>\n",
              "</table>\n",
              "</div>\n",
              "    <div class=\"colab-df-buttons\">\n",
              "\n",
              "  <div class=\"colab-df-container\">\n",
              "    <button class=\"colab-df-convert\" onclick=\"convertToInteractive('df-e86c5fa0-613b-4ddc-90c4-a16a1a544975')\"\n",
              "            title=\"Convert this dataframe to an interactive table.\"\n",
              "            style=\"display:none;\">\n",
              "\n",
              "  <svg xmlns=\"http://www.w3.org/2000/svg\" height=\"24px\" viewBox=\"0 -960 960 960\">\n",
              "    <path d=\"M120-120v-720h720v720H120Zm60-500h600v-160H180v160Zm220 220h160v-160H400v160Zm0 220h160v-160H400v160ZM180-400h160v-160H180v160Zm440 0h160v-160H620v160ZM180-180h160v-160H180v160Zm440 0h160v-160H620v160Z\"/>\n",
              "  </svg>\n",
              "    </button>\n",
              "\n",
              "  <style>\n",
              "    .colab-df-container {\n",
              "      display:flex;\n",
              "      gap: 12px;\n",
              "    }\n",
              "\n",
              "    .colab-df-convert {\n",
              "      background-color: #E8F0FE;\n",
              "      border: none;\n",
              "      border-radius: 50%;\n",
              "      cursor: pointer;\n",
              "      display: none;\n",
              "      fill: #1967D2;\n",
              "      height: 32px;\n",
              "      padding: 0 0 0 0;\n",
              "      width: 32px;\n",
              "    }\n",
              "\n",
              "    .colab-df-convert:hover {\n",
              "      background-color: #E2EBFA;\n",
              "      box-shadow: 0px 1px 2px rgba(60, 64, 67, 0.3), 0px 1px 3px 1px rgba(60, 64, 67, 0.15);\n",
              "      fill: #174EA6;\n",
              "    }\n",
              "\n",
              "    .colab-df-buttons div {\n",
              "      margin-bottom: 4px;\n",
              "    }\n",
              "\n",
              "    [theme=dark] .colab-df-convert {\n",
              "      background-color: #3B4455;\n",
              "      fill: #D2E3FC;\n",
              "    }\n",
              "\n",
              "    [theme=dark] .colab-df-convert:hover {\n",
              "      background-color: #434B5C;\n",
              "      box-shadow: 0px 1px 3px 1px rgba(0, 0, 0, 0.15);\n",
              "      filter: drop-shadow(0px 1px 2px rgba(0, 0, 0, 0.3));\n",
              "      fill: #FFFFFF;\n",
              "    }\n",
              "  </style>\n",
              "\n",
              "    <script>\n",
              "      const buttonEl =\n",
              "        document.querySelector('#df-e86c5fa0-613b-4ddc-90c4-a16a1a544975 button.colab-df-convert');\n",
              "      buttonEl.style.display =\n",
              "        google.colab.kernel.accessAllowed ? 'block' : 'none';\n",
              "\n",
              "      async function convertToInteractive(key) {\n",
              "        const element = document.querySelector('#df-e86c5fa0-613b-4ddc-90c4-a16a1a544975');\n",
              "        const dataTable =\n",
              "          await google.colab.kernel.invokeFunction('convertToInteractive',\n",
              "                                                    [key], {});\n",
              "        if (!dataTable) return;\n",
              "\n",
              "        const docLinkHtml = 'Like what you see? Visit the ' +\n",
              "          '<a target=\"_blank\" href=https://colab.research.google.com/notebooks/data_table.ipynb>data table notebook</a>'\n",
              "          + ' to learn more about interactive tables.';\n",
              "        element.innerHTML = '';\n",
              "        dataTable['output_type'] = 'display_data';\n",
              "        await google.colab.output.renderOutput(dataTable, element);\n",
              "        const docLink = document.createElement('div');\n",
              "        docLink.innerHTML = docLinkHtml;\n",
              "        element.appendChild(docLink);\n",
              "      }\n",
              "    </script>\n",
              "  </div>\n",
              "\n",
              "\n",
              "<div id=\"df-d8f04538-1737-4b60-a920-72ac6199558d\">\n",
              "  <button class=\"colab-df-quickchart\" onclick=\"quickchart('df-d8f04538-1737-4b60-a920-72ac6199558d')\"\n",
              "            title=\"Suggest charts\"\n",
              "            style=\"display:none;\">\n",
              "\n",
              "<svg xmlns=\"http://www.w3.org/2000/svg\" height=\"24px\"viewBox=\"0 0 24 24\"\n",
              "     width=\"24px\">\n",
              "    <g>\n",
              "        <path d=\"M19 3H5c-1.1 0-2 .9-2 2v14c0 1.1.9 2 2 2h14c1.1 0 2-.9 2-2V5c0-1.1-.9-2-2-2zM9 17H7v-7h2v7zm4 0h-2V7h2v10zm4 0h-2v-4h2v4z\"/>\n",
              "    </g>\n",
              "</svg>\n",
              "  </button>\n",
              "\n",
              "<style>\n",
              "  .colab-df-quickchart {\n",
              "      --bg-color: #E8F0FE;\n",
              "      --fill-color: #1967D2;\n",
              "      --hover-bg-color: #E2EBFA;\n",
              "      --hover-fill-color: #174EA6;\n",
              "      --disabled-fill-color: #AAA;\n",
              "      --disabled-bg-color: #DDD;\n",
              "  }\n",
              "\n",
              "  [theme=dark] .colab-df-quickchart {\n",
              "      --bg-color: #3B4455;\n",
              "      --fill-color: #D2E3FC;\n",
              "      --hover-bg-color: #434B5C;\n",
              "      --hover-fill-color: #FFFFFF;\n",
              "      --disabled-bg-color: #3B4455;\n",
              "      --disabled-fill-color: #666;\n",
              "  }\n",
              "\n",
              "  .colab-df-quickchart {\n",
              "    background-color: var(--bg-color);\n",
              "    border: none;\n",
              "    border-radius: 50%;\n",
              "    cursor: pointer;\n",
              "    display: none;\n",
              "    fill: var(--fill-color);\n",
              "    height: 32px;\n",
              "    padding: 0;\n",
              "    width: 32px;\n",
              "  }\n",
              "\n",
              "  .colab-df-quickchart:hover {\n",
              "    background-color: var(--hover-bg-color);\n",
              "    box-shadow: 0 1px 2px rgba(60, 64, 67, 0.3), 0 1px 3px 1px rgba(60, 64, 67, 0.15);\n",
              "    fill: var(--button-hover-fill-color);\n",
              "  }\n",
              "\n",
              "  .colab-df-quickchart-complete:disabled,\n",
              "  .colab-df-quickchart-complete:disabled:hover {\n",
              "    background-color: var(--disabled-bg-color);\n",
              "    fill: var(--disabled-fill-color);\n",
              "    box-shadow: none;\n",
              "  }\n",
              "\n",
              "  .colab-df-spinner {\n",
              "    border: 2px solid var(--fill-color);\n",
              "    border-color: transparent;\n",
              "    border-bottom-color: var(--fill-color);\n",
              "    animation:\n",
              "      spin 1s steps(1) infinite;\n",
              "  }\n",
              "\n",
              "  @keyframes spin {\n",
              "    0% {\n",
              "      border-color: transparent;\n",
              "      border-bottom-color: var(--fill-color);\n",
              "      border-left-color: var(--fill-color);\n",
              "    }\n",
              "    20% {\n",
              "      border-color: transparent;\n",
              "      border-left-color: var(--fill-color);\n",
              "      border-top-color: var(--fill-color);\n",
              "    }\n",
              "    30% {\n",
              "      border-color: transparent;\n",
              "      border-left-color: var(--fill-color);\n",
              "      border-top-color: var(--fill-color);\n",
              "      border-right-color: var(--fill-color);\n",
              "    }\n",
              "    40% {\n",
              "      border-color: transparent;\n",
              "      border-right-color: var(--fill-color);\n",
              "      border-top-color: var(--fill-color);\n",
              "    }\n",
              "    60% {\n",
              "      border-color: transparent;\n",
              "      border-right-color: var(--fill-color);\n",
              "    }\n",
              "    80% {\n",
              "      border-color: transparent;\n",
              "      border-right-color: var(--fill-color);\n",
              "      border-bottom-color: var(--fill-color);\n",
              "    }\n",
              "    90% {\n",
              "      border-color: transparent;\n",
              "      border-bottom-color: var(--fill-color);\n",
              "    }\n",
              "  }\n",
              "</style>\n",
              "\n",
              "  <script>\n",
              "    async function quickchart(key) {\n",
              "      const quickchartButtonEl =\n",
              "        document.querySelector('#' + key + ' button');\n",
              "      quickchartButtonEl.disabled = true;  // To prevent multiple clicks.\n",
              "      quickchartButtonEl.classList.add('colab-df-spinner');\n",
              "      try {\n",
              "        const charts = await google.colab.kernel.invokeFunction(\n",
              "            'suggestCharts', [key], {});\n",
              "      } catch (error) {\n",
              "        console.error('Error during call to suggestCharts:', error);\n",
              "      }\n",
              "      quickchartButtonEl.classList.remove('colab-df-spinner');\n",
              "      quickchartButtonEl.classList.add('colab-df-quickchart-complete');\n",
              "    }\n",
              "    (() => {\n",
              "      let quickchartButtonEl =\n",
              "        document.querySelector('#df-d8f04538-1737-4b60-a920-72ac6199558d button');\n",
              "      quickchartButtonEl.style.display =\n",
              "        google.colab.kernel.accessAllowed ? 'block' : 'none';\n",
              "    })();\n",
              "  </script>\n",
              "</div>\n",
              "\n",
              "    </div>\n",
              "  </div>\n"
            ],
            "application/vnd.google.colaboratory.intrinsic+json": {
              "type": "dataframe",
              "summary": "{\n  \"name\": \"temp\",\n  \"rows\": 4,\n  \"fields\": [\n    {\n      \"column\": \"temp_c\",\n      \"properties\": {\n        \"dtype\": \"number\",\n        \"std\": 6.163783109602595,\n        \"min\": 6.616666666666667,\n        \"max\": 21.283333333333335,\n        \"num_unique_values\": 4,\n        \"samples\": [\n          11.016666666666666,\n          12.016666666666666,\n          6.616666666666667\n        ],\n        \"semantic_type\": \"\",\n        \"description\": \"\"\n      }\n    }\n  ]\n}"
            }
          },
          "metadata": {},
          "execution_count": 18
        }
      ]
    },
    {
      "cell_type": "markdown",
      "source": [
        "You now have a new pandas DataFrame with four rows. Each row corresponds to a single six-hour interval. For example, the value 6.616667 is the mean of the first six temperatures from the DataFrame temp, whereas 12.016667 is the mean of the last six temperatures.\n",
        "\n",
        "Instead of .mean(), you can apply .min() or .max() to get the minimum and maximum temperatures for each interval. You can also use .sum() to get the sums of data values, although this information probably isn’t useful when you’re working with temperatures.\n",
        "\n",
        "You might also need to do some rolling-window analysis. This involves calculating a statistic for a specified number of adjacent rows, which make up your window of data. You can “roll” the window by selecting a different set of adjacent rows to perform your calculations on.\n",
        "\n",
        "Your first window starts with the first row in your DataFrame and includes as many adjacent rows as you specify. You then move your window down one row, dropping the first row and adding the row that comes immediately after the last row, and calculate the same statistic again. You repeat this process until you reach the last row of the DataFrame.\n",
        "\n",
        "pandas provides the method .rolling() for this purpose:"
      ],
      "metadata": {
        "id": "uZt6ZUq8Tp6z"
      }
    },
    {
      "cell_type": "code",
      "source": [
        "temp.rolling(window=3).mean()"
      ],
      "metadata": {
        "colab": {
          "base_uri": "https://localhost:8080/",
          "height": 802
        },
        "id": "reW7FIBaTqkZ",
        "outputId": "ee6e64e3-402d-495f-fd62-849937e7cedd"
      },
      "execution_count": 20,
      "outputs": [
        {
          "output_type": "execute_result",
          "data": {
            "text/plain": [
              "                        temp_c\n",
              "2019-10-27 00:00:00        NaN\n",
              "2019-10-27 01:00:00        NaN\n",
              "2019-10-27 02:00:00   7.300000\n",
              "2019-10-27 03:00:00   6.766667\n",
              "2019-10-27 04:00:00   6.400000\n",
              "2019-10-27 05:00:00   5.933333\n",
              "2019-10-27 06:00:00   5.400000\n",
              "2019-10-27 07:00:00   5.066667\n",
              "2019-10-27 08:00:00   6.300000\n",
              "2019-10-27 09:00:00   8.966667\n",
              "2019-10-27 10:00:00  12.400000\n",
              "2019-10-27 11:00:00  15.733333\n",
              "2019-10-27 12:00:00  18.533333\n",
              "2019-10-27 13:00:00  20.800000\n",
              "2019-10-27 14:00:00  21.900000\n",
              "2019-10-27 15:00:00  22.533333\n",
              "2019-10-27 16:00:00  22.166667\n",
              "2019-10-27 17:00:00  20.666667\n",
              "2019-10-27 18:00:00  18.133333\n",
              "2019-10-27 19:00:00  15.933333\n",
              "2019-10-27 20:00:00  13.933333\n",
              "2019-10-27 21:00:00  12.433333\n",
              "2019-10-27 22:00:00  11.033333\n",
              "2019-10-27 23:00:00  10.100000"
            ],
            "text/html": [
              "\n",
              "  <div id=\"df-14713409-07e2-426d-9c0f-42536f486d38\" class=\"colab-df-container\">\n",
              "    <div>\n",
              "<style scoped>\n",
              "    .dataframe tbody tr th:only-of-type {\n",
              "        vertical-align: middle;\n",
              "    }\n",
              "\n",
              "    .dataframe tbody tr th {\n",
              "        vertical-align: top;\n",
              "    }\n",
              "\n",
              "    .dataframe thead th {\n",
              "        text-align: right;\n",
              "    }\n",
              "</style>\n",
              "<table border=\"1\" class=\"dataframe\">\n",
              "  <thead>\n",
              "    <tr style=\"text-align: right;\">\n",
              "      <th></th>\n",
              "      <th>temp_c</th>\n",
              "    </tr>\n",
              "  </thead>\n",
              "  <tbody>\n",
              "    <tr>\n",
              "      <th>2019-10-27 00:00:00</th>\n",
              "      <td>NaN</td>\n",
              "    </tr>\n",
              "    <tr>\n",
              "      <th>2019-10-27 01:00:00</th>\n",
              "      <td>NaN</td>\n",
              "    </tr>\n",
              "    <tr>\n",
              "      <th>2019-10-27 02:00:00</th>\n",
              "      <td>7.300000</td>\n",
              "    </tr>\n",
              "    <tr>\n",
              "      <th>2019-10-27 03:00:00</th>\n",
              "      <td>6.766667</td>\n",
              "    </tr>\n",
              "    <tr>\n",
              "      <th>2019-10-27 04:00:00</th>\n",
              "      <td>6.400000</td>\n",
              "    </tr>\n",
              "    <tr>\n",
              "      <th>2019-10-27 05:00:00</th>\n",
              "      <td>5.933333</td>\n",
              "    </tr>\n",
              "    <tr>\n",
              "      <th>2019-10-27 06:00:00</th>\n",
              "      <td>5.400000</td>\n",
              "    </tr>\n",
              "    <tr>\n",
              "      <th>2019-10-27 07:00:00</th>\n",
              "      <td>5.066667</td>\n",
              "    </tr>\n",
              "    <tr>\n",
              "      <th>2019-10-27 08:00:00</th>\n",
              "      <td>6.300000</td>\n",
              "    </tr>\n",
              "    <tr>\n",
              "      <th>2019-10-27 09:00:00</th>\n",
              "      <td>8.966667</td>\n",
              "    </tr>\n",
              "    <tr>\n",
              "      <th>2019-10-27 10:00:00</th>\n",
              "      <td>12.400000</td>\n",
              "    </tr>\n",
              "    <tr>\n",
              "      <th>2019-10-27 11:00:00</th>\n",
              "      <td>15.733333</td>\n",
              "    </tr>\n",
              "    <tr>\n",
              "      <th>2019-10-27 12:00:00</th>\n",
              "      <td>18.533333</td>\n",
              "    </tr>\n",
              "    <tr>\n",
              "      <th>2019-10-27 13:00:00</th>\n",
              "      <td>20.800000</td>\n",
              "    </tr>\n",
              "    <tr>\n",
              "      <th>2019-10-27 14:00:00</th>\n",
              "      <td>21.900000</td>\n",
              "    </tr>\n",
              "    <tr>\n",
              "      <th>2019-10-27 15:00:00</th>\n",
              "      <td>22.533333</td>\n",
              "    </tr>\n",
              "    <tr>\n",
              "      <th>2019-10-27 16:00:00</th>\n",
              "      <td>22.166667</td>\n",
              "    </tr>\n",
              "    <tr>\n",
              "      <th>2019-10-27 17:00:00</th>\n",
              "      <td>20.666667</td>\n",
              "    </tr>\n",
              "    <tr>\n",
              "      <th>2019-10-27 18:00:00</th>\n",
              "      <td>18.133333</td>\n",
              "    </tr>\n",
              "    <tr>\n",
              "      <th>2019-10-27 19:00:00</th>\n",
              "      <td>15.933333</td>\n",
              "    </tr>\n",
              "    <tr>\n",
              "      <th>2019-10-27 20:00:00</th>\n",
              "      <td>13.933333</td>\n",
              "    </tr>\n",
              "    <tr>\n",
              "      <th>2019-10-27 21:00:00</th>\n",
              "      <td>12.433333</td>\n",
              "    </tr>\n",
              "    <tr>\n",
              "      <th>2019-10-27 22:00:00</th>\n",
              "      <td>11.033333</td>\n",
              "    </tr>\n",
              "    <tr>\n",
              "      <th>2019-10-27 23:00:00</th>\n",
              "      <td>10.100000</td>\n",
              "    </tr>\n",
              "  </tbody>\n",
              "</table>\n",
              "</div>\n",
              "    <div class=\"colab-df-buttons\">\n",
              "\n",
              "  <div class=\"colab-df-container\">\n",
              "    <button class=\"colab-df-convert\" onclick=\"convertToInteractive('df-14713409-07e2-426d-9c0f-42536f486d38')\"\n",
              "            title=\"Convert this dataframe to an interactive table.\"\n",
              "            style=\"display:none;\">\n",
              "\n",
              "  <svg xmlns=\"http://www.w3.org/2000/svg\" height=\"24px\" viewBox=\"0 -960 960 960\">\n",
              "    <path d=\"M120-120v-720h720v720H120Zm60-500h600v-160H180v160Zm220 220h160v-160H400v160Zm0 220h160v-160H400v160ZM180-400h160v-160H180v160Zm440 0h160v-160H620v160ZM180-180h160v-160H180v160Zm440 0h160v-160H620v160Z\"/>\n",
              "  </svg>\n",
              "    </button>\n",
              "\n",
              "  <style>\n",
              "    .colab-df-container {\n",
              "      display:flex;\n",
              "      gap: 12px;\n",
              "    }\n",
              "\n",
              "    .colab-df-convert {\n",
              "      background-color: #E8F0FE;\n",
              "      border: none;\n",
              "      border-radius: 50%;\n",
              "      cursor: pointer;\n",
              "      display: none;\n",
              "      fill: #1967D2;\n",
              "      height: 32px;\n",
              "      padding: 0 0 0 0;\n",
              "      width: 32px;\n",
              "    }\n",
              "\n",
              "    .colab-df-convert:hover {\n",
              "      background-color: #E2EBFA;\n",
              "      box-shadow: 0px 1px 2px rgba(60, 64, 67, 0.3), 0px 1px 3px 1px rgba(60, 64, 67, 0.15);\n",
              "      fill: #174EA6;\n",
              "    }\n",
              "\n",
              "    .colab-df-buttons div {\n",
              "      margin-bottom: 4px;\n",
              "    }\n",
              "\n",
              "    [theme=dark] .colab-df-convert {\n",
              "      background-color: #3B4455;\n",
              "      fill: #D2E3FC;\n",
              "    }\n",
              "\n",
              "    [theme=dark] .colab-df-convert:hover {\n",
              "      background-color: #434B5C;\n",
              "      box-shadow: 0px 1px 3px 1px rgba(0, 0, 0, 0.15);\n",
              "      filter: drop-shadow(0px 1px 2px rgba(0, 0, 0, 0.3));\n",
              "      fill: #FFFFFF;\n",
              "    }\n",
              "  </style>\n",
              "\n",
              "    <script>\n",
              "      const buttonEl =\n",
              "        document.querySelector('#df-14713409-07e2-426d-9c0f-42536f486d38 button.colab-df-convert');\n",
              "      buttonEl.style.display =\n",
              "        google.colab.kernel.accessAllowed ? 'block' : 'none';\n",
              "\n",
              "      async function convertToInteractive(key) {\n",
              "        const element = document.querySelector('#df-14713409-07e2-426d-9c0f-42536f486d38');\n",
              "        const dataTable =\n",
              "          await google.colab.kernel.invokeFunction('convertToInteractive',\n",
              "                                                    [key], {});\n",
              "        if (!dataTable) return;\n",
              "\n",
              "        const docLinkHtml = 'Like what you see? Visit the ' +\n",
              "          '<a target=\"_blank\" href=https://colab.research.google.com/notebooks/data_table.ipynb>data table notebook</a>'\n",
              "          + ' to learn more about interactive tables.';\n",
              "        element.innerHTML = '';\n",
              "        dataTable['output_type'] = 'display_data';\n",
              "        await google.colab.output.renderOutput(dataTable, element);\n",
              "        const docLink = document.createElement('div');\n",
              "        docLink.innerHTML = docLinkHtml;\n",
              "        element.appendChild(docLink);\n",
              "      }\n",
              "    </script>\n",
              "  </div>\n",
              "\n",
              "\n",
              "<div id=\"df-fc9f3c51-d10f-4795-81e4-f92e96b7a20c\">\n",
              "  <button class=\"colab-df-quickchart\" onclick=\"quickchart('df-fc9f3c51-d10f-4795-81e4-f92e96b7a20c')\"\n",
              "            title=\"Suggest charts\"\n",
              "            style=\"display:none;\">\n",
              "\n",
              "<svg xmlns=\"http://www.w3.org/2000/svg\" height=\"24px\"viewBox=\"0 0 24 24\"\n",
              "     width=\"24px\">\n",
              "    <g>\n",
              "        <path d=\"M19 3H5c-1.1 0-2 .9-2 2v14c0 1.1.9 2 2 2h14c1.1 0 2-.9 2-2V5c0-1.1-.9-2-2-2zM9 17H7v-7h2v7zm4 0h-2V7h2v10zm4 0h-2v-4h2v4z\"/>\n",
              "    </g>\n",
              "</svg>\n",
              "  </button>\n",
              "\n",
              "<style>\n",
              "  .colab-df-quickchart {\n",
              "      --bg-color: #E8F0FE;\n",
              "      --fill-color: #1967D2;\n",
              "      --hover-bg-color: #E2EBFA;\n",
              "      --hover-fill-color: #174EA6;\n",
              "      --disabled-fill-color: #AAA;\n",
              "      --disabled-bg-color: #DDD;\n",
              "  }\n",
              "\n",
              "  [theme=dark] .colab-df-quickchart {\n",
              "      --bg-color: #3B4455;\n",
              "      --fill-color: #D2E3FC;\n",
              "      --hover-bg-color: #434B5C;\n",
              "      --hover-fill-color: #FFFFFF;\n",
              "      --disabled-bg-color: #3B4455;\n",
              "      --disabled-fill-color: #666;\n",
              "  }\n",
              "\n",
              "  .colab-df-quickchart {\n",
              "    background-color: var(--bg-color);\n",
              "    border: none;\n",
              "    border-radius: 50%;\n",
              "    cursor: pointer;\n",
              "    display: none;\n",
              "    fill: var(--fill-color);\n",
              "    height: 32px;\n",
              "    padding: 0;\n",
              "    width: 32px;\n",
              "  }\n",
              "\n",
              "  .colab-df-quickchart:hover {\n",
              "    background-color: var(--hover-bg-color);\n",
              "    box-shadow: 0 1px 2px rgba(60, 64, 67, 0.3), 0 1px 3px 1px rgba(60, 64, 67, 0.15);\n",
              "    fill: var(--button-hover-fill-color);\n",
              "  }\n",
              "\n",
              "  .colab-df-quickchart-complete:disabled,\n",
              "  .colab-df-quickchart-complete:disabled:hover {\n",
              "    background-color: var(--disabled-bg-color);\n",
              "    fill: var(--disabled-fill-color);\n",
              "    box-shadow: none;\n",
              "  }\n",
              "\n",
              "  .colab-df-spinner {\n",
              "    border: 2px solid var(--fill-color);\n",
              "    border-color: transparent;\n",
              "    border-bottom-color: var(--fill-color);\n",
              "    animation:\n",
              "      spin 1s steps(1) infinite;\n",
              "  }\n",
              "\n",
              "  @keyframes spin {\n",
              "    0% {\n",
              "      border-color: transparent;\n",
              "      border-bottom-color: var(--fill-color);\n",
              "      border-left-color: var(--fill-color);\n",
              "    }\n",
              "    20% {\n",
              "      border-color: transparent;\n",
              "      border-left-color: var(--fill-color);\n",
              "      border-top-color: var(--fill-color);\n",
              "    }\n",
              "    30% {\n",
              "      border-color: transparent;\n",
              "      border-left-color: var(--fill-color);\n",
              "      border-top-color: var(--fill-color);\n",
              "      border-right-color: var(--fill-color);\n",
              "    }\n",
              "    40% {\n",
              "      border-color: transparent;\n",
              "      border-right-color: var(--fill-color);\n",
              "      border-top-color: var(--fill-color);\n",
              "    }\n",
              "    60% {\n",
              "      border-color: transparent;\n",
              "      border-right-color: var(--fill-color);\n",
              "    }\n",
              "    80% {\n",
              "      border-color: transparent;\n",
              "      border-right-color: var(--fill-color);\n",
              "      border-bottom-color: var(--fill-color);\n",
              "    }\n",
              "    90% {\n",
              "      border-color: transparent;\n",
              "      border-bottom-color: var(--fill-color);\n",
              "    }\n",
              "  }\n",
              "</style>\n",
              "\n",
              "  <script>\n",
              "    async function quickchart(key) {\n",
              "      const quickchartButtonEl =\n",
              "        document.querySelector('#' + key + ' button');\n",
              "      quickchartButtonEl.disabled = true;  // To prevent multiple clicks.\n",
              "      quickchartButtonEl.classList.add('colab-df-spinner');\n",
              "      try {\n",
              "        const charts = await google.colab.kernel.invokeFunction(\n",
              "            'suggestCharts', [key], {});\n",
              "      } catch (error) {\n",
              "        console.error('Error during call to suggestCharts:', error);\n",
              "      }\n",
              "      quickchartButtonEl.classList.remove('colab-df-spinner');\n",
              "      quickchartButtonEl.classList.add('colab-df-quickchart-complete');\n",
              "    }\n",
              "    (() => {\n",
              "      let quickchartButtonEl =\n",
              "        document.querySelector('#df-fc9f3c51-d10f-4795-81e4-f92e96b7a20c button');\n",
              "      quickchartButtonEl.style.display =\n",
              "        google.colab.kernel.accessAllowed ? 'block' : 'none';\n",
              "    })();\n",
              "  </script>\n",
              "</div>\n",
              "\n",
              "    </div>\n",
              "  </div>\n"
            ],
            "application/vnd.google.colaboratory.intrinsic+json": {
              "type": "dataframe",
              "summary": "{\n  \"name\": \"temp\",\n  \"rows\": 24,\n  \"fields\": [\n    {\n      \"column\": \"temp_c\",\n      \"properties\": {\n        \"dtype\": \"number\",\n        \"std\": 6.199243735781236,\n        \"min\": 5.066666666666667,\n        \"max\": 22.53333333333333,\n        \"num_unique_values\": 22,\n        \"samples\": [\n          7.3,\n          22.53333333333333,\n          12.4\n        ],\n        \"semantic_type\": \"\",\n        \"description\": \"\"\n      }\n    }\n  ]\n}"
            }
          },
          "metadata": {},
          "execution_count": 20
        }
      ]
    },
    {
      "cell_type": "markdown",
      "source": [
        "Now you have a DataFrame with mean temperatures calculated for several three-hour windows. The parameter window specifies the size of the moving time window.\n",
        "\n",
        "In the example above, the third value (7.3) is the mean temperature for the first three hours (00:00:00, 01:00:00, and 02:00:00). The fourth value is the mean temperature for the hours 02:00:00, 03:00:00, and 04:00:00. The last value is the mean temperature for the last three hours, 21:00:00, 22:00:00, and 23:00:00. The first two values are missing because there isn’t enough data to calculate them."
      ],
      "metadata": {
        "id": "9Jwt-nDnT-3b"
      }
    },
    {
      "cell_type": "markdown",
      "source": [
        "# Plotting With pandas DataFrames\n",
        "pandas allows you to visualize data or create plots based on DataFrames. It uses Matplotlib in the background, so exploiting pandas’ plotting capabilities is very similar to working with Matplotlib.\n",
        "\n",
        "If you want to display the plots, then you first need to import matplotlib.pyplot:"
      ],
      "metadata": {
        "id": "csx57Hp1UDP0"
      }
    },
    {
      "cell_type": "code",
      "source": [
        "import matplotlib.pyplot as plt"
      ],
      "metadata": {
        "id": "gOq5vJGsT18y"
      },
      "execution_count": 21,
      "outputs": []
    },
    {
      "cell_type": "code",
      "source": [
        "temp.plot()\n",
        "\n",
        "plt.show()"
      ],
      "metadata": {
        "colab": {
          "base_uri": "https://localhost:8080/",
          "height": 446
        },
        "id": "TgSDmxruUG-i",
        "outputId": "2d0e6542-59a6-4498-b602-bb05b6ea1815"
      },
      "execution_count": 22,
      "outputs": [
        {
          "output_type": "display_data",
          "data": {
            "text/plain": [
              "<Figure size 640x480 with 1 Axes>"
            ],
            "image/png": "[encoded data removed]"
          },
          "metadata": {}
        }
      ]
    },
    {
      "cell_type": "markdown",
      "source": [
        "You can also apply .plot.line() and get the same result. Both .plot() and .plot.line() have many optional parameters that you can use to specify the look of your plot. Some of them are passed directly to the underlying Matplotlib methods.\n",
        "\n",
        "You can save your figure by chaining the methods .get_figure() and .savefig():"
      ],
      "metadata": {
        "id": "o_8OyaUyUO_J"
      }
    },
    {
      "cell_type": "code",
      "source": [
        "temp.plot().get_figure().savefig('temperatures.png')"
      ],
      "metadata": {
        "colab": {
          "base_uri": "https://localhost:8080/",
          "height": 446
        },
        "id": "u8vn4-z1UJZa",
        "outputId": "08e21234-9263-4ebb-8838-674fac54d9e6"
      },
      "execution_count": 23,
      "outputs": [
        {
          "output_type": "display_data",
          "data": {
            "text/plain": [
              "<Figure size 640x480 with 1 Axes>"
            ],
            "image/png": "[encoded data removed]"
          },
          "metadata": {}
        }
      ]
    },
    {
      "cell_type": "markdown",
      "source": [
        "# Constructing Lists in Python\n",
        "First things first. If you want to use a list to store or collect some data in your code, then you need to create a list object. You’ll find several ways to create lists in Python. That’s one of the features that make lists so versatile and popular.\n",
        "\n",
        "For example, you can create lists using one of the following tools:\n",
        "\n",
        "List literals\n",
        "The list() constructor\n",
        "A list comprehension\n",
        "In the following sections, you’ll learn how to use the three tools listed above to create new lists in your code. You’ll start off with list literals.\n",
        "\n",
        "## Creating Lists Through Literals\n",
        "List literals are probably the most popular way to create a list object in Python. These literals are fairly straightforward. They consist of a pair of square brackets enclosing a comma-separated series of objects.\n",
        "\n",
        "Here’s the general syntax of a list literal:\n",
        "\n",
        "[item_0, item_1, ..., item_n]\n",
        "This syntax creates a list of n items by listing the items in an enclosing pair of square brackets. Note that you don’t have to declare the items’ type or the list’s size beforehand. Remember that lists have a variable size and can store heterogeneous objects.\n",
        "\n",
        "Here are a few examples of how to use the literal syntax to create new lists:"
      ],
      "metadata": {
        "id": "5J-PxAg2VWKu"
      }
    },
    {
      "cell_type": "code",
      "source": [
        "digits = [0, 1, 2, 3, 4, 5, 6, 7, 8, 9]\n",
        "fruits = [\"apple\", \"banana\", \"orange\", \"kiwi\", \"grape\"]\n",
        "cities = [\n",
        "    \"New York\",\n",
        "    \"Los Angeles\",\n",
        "    \"Chicago\",\n",
        "    \"Houston\",\n",
        "    \"Philadelphia\"\n",
        "]\n",
        "\n",
        "matrix = [\n",
        "    [1, 2, 3],\n",
        "    [4, 5, 6],\n",
        "    [7, 8, 9]\n",
        "]\n",
        "\n",
        "inventory = [\n",
        "    {\"product\": \"phone\", \"price\": 1000, \"quantity\": 10},\n",
        "    {\"product\": \"laptop\", \"price\": 1500, \"quantity\": 5},\n",
        "    {\"product\": \"tablet\", \"price\": 500, \"quantity\": 20}\n",
        "]\n",
        "\n",
        "functions = [print, len, range, type, enumerate]\n",
        "\n",
        "empty = []"
      ],
      "metadata": {
        "id": "Ps_D29nkUSeZ"
      },
      "execution_count": 24,
      "outputs": []
    },
    {
      "cell_type": "markdown",
      "source": [
        "In these examples, you use the list literal syntax to create lists containing numbers, strings, other lists, dictionaries, and even function objects. As you already know, lists can store any type of object. They can also be empty, like the final list in the above code snippet.\n",
        "\n",
        "Empty lists are useful in many situations. For example, maybe you want to create a list of objects resulting from computations that run in a loop. The loop will allow you to populate the empty list one element at a time.\n",
        "\n",
        "Using a list literal is arguably the most common way to create lists. You’ll find these literals in many Python examples and codebases. They come in handy when you have a series of elements with closely related meanings, and you want to pack them into a single data structure.\n",
        "\n",
        "Note that naming lists as plural nouns is a common practice that improves readability. However, there are situations where you can use collective nouns as well.\n",
        "\n",
        "For example, you can have a list called people. In this case, every item will be a person. Another example would be a list that represents a table in a database. You can call the list table, and each item will be a row. You’ll find more examples like these in your walk-through of using lists.\n",
        "\n",
        "## Using the list() Constructor\n",
        "Another tool that allows you to create list objects is the class constructor, list(). You can call this constructor with any iterable object, including other lists, tuples, sets, dictionaries and their components, strings, and many others. You can also call it without any arguments, in which case you’ll get an empty list back.\n",
        "\n",
        "Here’s the general syntax:\n",
        "\n",
        "list([iterable])\n",
        "To create a list, you need to call list() as you’d call any class constructor or function. Note that the square brackets around iterable mean that the argument is optional, so the brackets aren’t part of the syntax. Here are a few examples of how to use the constructor:"
      ],
      "metadata": {
        "id": "Pap7ws13ViNn"
      }
    },
    {
      "cell_type": "code",
      "source": [
        "list((0, 1, 2, 3, 4, 5, 6, 7, 8, 9))\n",
        "\n",
        "\n",
        "list({\"circle\", \"square\", \"triangle\", \"rectangle\", \"pentagon\"})\n",
        "\n",
        "\n",
        "list({\"name\": \"John\", \"age\": 30, \"city\": \"New York\"}.items())\n",
        "\n",
        "\n",
        "list(\"Pythonista\")\n",
        "\n",
        "\n",
        "list()"
      ],
      "metadata": {
        "colab": {
          "base_uri": "https://localhost:8080/"
        },
        "id": "PLtb8VcTVc-G",
        "outputId": "36689c87-fe5c-43a0-c06f-ac80b2163da0"
      },
      "execution_count": 25,
      "outputs": [
        {
          "output_type": "execute_result",
          "data": {
            "text/plain": [
              "[]"
            ]
          },
          "metadata": {},
          "execution_count": 25
        }
      ]
    },
    {
      "cell_type": "markdown",
      "source": [
        "In these examples, you create different lists using the list() constructor, which accepts any type of iterable object, including tuples, dictionaries, strings, and many more. It even accepts sets, in which case you need to remember that sets are unordered data structures, so you won’t be able to predict the final order of items in the resulting list.\n",
        "\n",
        "Calling list() without an argument creates and returns a new empty list. This way of creating empty lists is less common than using an empty pair of square brackets. However, in some situations, it can make your code more explicit by clearly communicating your intent: creating an empty list.\n",
        "\n",
        "The list() constructor is especially useful when you need to create a list out of an iterator object. For example, say that you have a generator function that yields numbers from the Fibonacci sequence on demand, and you need to store the first ten numbers in a list.\n",
        "\n",
        "In this case, you can use list() as in the code below:"
      ],
      "metadata": {
        "id": "2P4sjJhQVtga"
      }
    },
    {
      "cell_type": "code",
      "source": [
        "def fibonacci_generator(stop):\n",
        "    current_fib, next_fib = 0, 1\n",
        "    for _ in range(0, stop):\n",
        "        fib_number = current_fib\n",
        "        current_fib, next_fib = next_fib, current_fib + next_fib\n",
        "        yield fib_number\n",
        "\n",
        "\n",
        "fibonacci_generator(10)\n",
        "\n",
        "\n",
        "list(fibonacci_generator(10))"
      ],
      "metadata": {
        "colab": {
          "base_uri": "https://localhost:8080/"
        },
        "id": "n4ccOm-XVoLQ",
        "outputId": "fd1e4e12-5219-44da-a090-5a41dc6e71c6"
      },
      "execution_count": 26,
      "outputs": [
        {
          "output_type": "execute_result",
          "data": {
            "text/plain": [
              "[0, 1, 1, 2, 3, 5, 8, 13, 21, 34]"
            ]
          },
          "metadata": {},
          "execution_count": 26
        }
      ]
    },
    {
      "cell_type": "markdown",
      "source": [
        "Calling fibonacci_generator() directly returns a generator iterator object that allows you to iterate over the numbers in the Fibonacci sequence up to the index of your choice. However, you don’t need an iterator in your code. You need a list. A quick way to get that list is to wrap the iterator in a call to list(), as you did in the final example.\n",
        "\n",
        "This technique comes in handy when you’re working with functions that return iterators, and you want to construct a list object out of the items that the iterator yields. The list() constructor will consume the iterator, build your list, and return it back to you.\n",
        "\n",
        "Note: You can also use the literal syntax and the iterable unpacking operator (*) as an alternative to the list() constructor.\n",
        "\n",
        "Here’s how:\n",
        "\n",
        ">>> [*fibonacci_generator(10)]\n",
        "[0, 1, 1, 2, 3, 5, 8, 13, 21, 34]\n",
        "In this example, the iterable unpacking operator consumes the iterator, and the square brackets build the final list of numbers. However, this technique is less readable and explicit than using list().\n",
        "As a side note, you’ll often find that built-in and third-party functions return iterators. Functions like reversed(), enumerate(), map(), and filter() are good examples of this practice. It’s less common to find functions that directly return list objects, but the built-in sorted() function is one example. It takes an iterable as an argument and returns a list of sorted items."
      ],
      "metadata": {
        "id": "Ea5yg39-V5oN"
      }
    },
    {
      "cell_type": "markdown",
      "source": [
        "## Building Lists With List Comprehensions\n",
        "List comprehensions are one of the most distinctive features of Python. They’re quite popular in the Python community, so you’ll likely find them all around. List comprehensions allow you to quickly create and transform lists using a syntax that mimics a for loop but in a single line of code.\n",
        "\n",
        "The core syntax of list comprehensions looks something like this:\n",
        "\n",
        "[expression(item) for item in iterable]\n",
        "Every list comprehension needs at least three components:\n",
        "\n",
        "expression() is a Python expression that returns a concrete value, and most of the time, that value depends on item. Note that it doesn’t have to be a function.\n",
        "item is the current object from iterable.\n",
        "iterable can be any Python iterable object, such as a list, tuple, set, string, or generator.\n",
        "The for construct iterates over the items in iterable, while expression(item) provides the corresponding list item that results from running the comprehension.\n",
        "\n",
        "To illustrate how list comprehensions allow you to create new lists out of existing iterables, say that you want to construct a list with the square values of the first ten integer numbers. In this case, you can write the following comprehension:"
      ],
      "metadata": {
        "id": "l4tdZsPAWA3Z"
      }
    },
    {
      "cell_type": "code",
      "source": [
        "[number ** 2 for number in range(1, 11)]"
      ],
      "metadata": {
        "colab": {
          "base_uri": "https://localhost:8080/"
        },
        "id": "-TRRrt05Vw-U",
        "outputId": "44a5f403-d6c1-416a-e640-b4f918991295"
      },
      "execution_count": 27,
      "outputs": [
        {
          "output_type": "execute_result",
          "data": {
            "text/plain": [
              "[1, 4, 9, 16, 25, 36, 49, 64, 81, 100]"
            ]
          },
          "metadata": {},
          "execution_count": 27
        }
      ]
    },
    {
      "cell_type": "markdown",
      "source": [
        "In this example, you use range() to get the first ten integer numbers. The comprehension iterates over them while computing the square and building the new list. This example is just a quick sample of what you can do with a list comprehension.\n",
        "\n",
        "Note: To dive deeper into list comprehensions and how to use them, check out When to Use a List Comprehension in Python.\n",
        "In general, you’ll use a list comprehension when you need to create a list of transformed values out of an existing iterable. Comprehensions are a great tool that you need to master as a Python developer. They’re optimized for performance and are quick to write."
      ],
      "metadata": {
        "id": "qt7gv7MDWOqP"
      }
    },
    {
      "cell_type": "markdown",
      "source": [
        "# Creating Copies of a List\n",
        "Creating copies of an existing list is a common need in Python code. Having a copy ensures that when you change a given list, that change doesn’t affect the original data or the data in other copies.\n",
        "\n",
        "Note: In Python, an object’s identity is a unique identifier that distinguishes it from other objects. You can use the built-in id() function to get the identity of any Python object. In Python’s CPython implementation, an object’s identity coincides with the memory address where the object is stored.\n",
        "In Python, you’ll have two kinds of mechanisms to create copies of an existing list. You can create either:\n",
        "\n",
        "A shallow copy\n",
        "A deep copy\n",
        "Both types of copies have specific characteristics that will directly impact their behavior. In the following sections, you’ll learn how to create shallow and deep copies of existing lists in Python. First, you’ll take a glance at aliases, a related concept that can cause some confusion and lead to issues and bugs.\n",
        "\n",
        "## Aliases of a List\n",
        "In Python, you can create aliases of variables using the assignment operator (=). Assignments don’t create copies of objects in Python. Instead, they create bindings between the variable and the object involved in the assignment. Therefore, when you have several aliases of a given list, changes in an alias will affect the rest of the aliases.\n",
        "\n",
        "To illustrate how you can create aliases and how they work, consider the following example:"
      ],
      "metadata": {
        "id": "v3WrUuZbWUs8"
      }
    },
    {
      "cell_type": "code",
      "source": [
        "countries = [\"United States\", \"Canada\", \"Poland\", \"Germany\", \"Austria\"]\n",
        "\n",
        "nations = countries\n",
        "id(countries) == id(nations)"
      ],
      "metadata": {
        "colab": {
          "base_uri": "https://localhost:8080/"
        },
        "id": "AMRhXqQJWGvB",
        "outputId": "d6c974e2-373f-47ff-8115-20bd34ded92a"
      },
      "execution_count": 28,
      "outputs": [
        {
          "output_type": "execute_result",
          "data": {
            "text/plain": [
              "True"
            ]
          },
          "metadata": {},
          "execution_count": 28
        }
      ]
    },
    {
      "cell_type": "code",
      "source": [
        "countries[0] = \"United States of America\"\n",
        "\n",
        "nations"
      ],
      "metadata": {
        "colab": {
          "base_uri": "https://localhost:8080/"
        },
        "id": "QKzWzcFpWdms",
        "outputId": "a8c5f8f1-9559-4a9e-ffe1-55845843389d"
      },
      "execution_count": 29,
      "outputs": [
        {
          "output_type": "execute_result",
          "data": {
            "text/plain": [
              "['United States of America', 'Canada', 'Poland', 'Germany', 'Austria']"
            ]
          },
          "metadata": {},
          "execution_count": 29
        }
      ]
    },
    {
      "cell_type": "markdown",
      "source": [
        "In this code snippet, the first highlighted line creates nations as an alias of countries. Note how both variables point to the same object, which you know because the object’s identity is the same. In the second highlighted line, you update the object at index 0 in countries. This change reflects in the nations alias.\n",
        "\n",
        "Assignment statements like the one in the first highlighted line above don’t create copies of the right-hand object. They just create aliases or variables that point to the same underlying object.\n",
        "\n",
        "In general, aliases can come in handy in situations where you need to avoid name collisions in your code or when you need to adapt the names to specific naming patterns.\n",
        "\n",
        "To illustrate, say that you have an app that uses your list of countries as countries in one part of the code. The app requires the same list in another part of the code, but there’s already a variable called countries with other content.\n",
        "\n",
        "If you want both pieces of code to work on the same list, then you can use nations as an alias for countries. A handy way to do this would be to use the as keyword for creating the alias through an implicit assignment, for example, when you import the list from another module."
      ],
      "metadata": {
        "id": "lcGaLBE7WkDe"
      }
    },
    {
      "cell_type": "markdown",
      "source": [
        "## Shallow Copies of a List\n",
        "A shallow copy of an existing list is a new list containing references to the objects stored in the original list. In other words, when you create a shallow copy of a list, Python constructs a new list with a new identity. Then, it inserts references to the objects in the original list into the new list.\n",
        "\n",
        "There are at least three different ways to create shallow copies of an existing list. You can use:\n",
        "\n",
        "The slicing operator, [:]\n",
        "The .copy() method\n",
        "The copy() function from the copy module\n",
        "These three tools demonstrate equivalent behavior. So, to kick things off, you’ll start exploring the slicing operator:"
      ],
      "metadata": {
        "id": "YUwQxXyEWqIg"
      }
    },
    {
      "cell_type": "code",
      "source": [
        "countries = [\"United States\", \"Canada\", \"Poland\", \"Germany\", \"Austria\"]\n",
        "\n",
        "nations = countries[:]\n",
        "nations"
      ],
      "metadata": {
        "colab": {
          "base_uri": "https://localhost:8080/"
        },
        "id": "L65R_DdAWgZa",
        "outputId": "dc7be7ea-a5b1-410a-836c-219f6d093731"
      },
      "execution_count": 30,
      "outputs": [
        {
          "output_type": "execute_result",
          "data": {
            "text/plain": [
              "['United States', 'Canada', 'Poland', 'Germany', 'Austria']"
            ]
          },
          "metadata": {},
          "execution_count": 30
        }
      ]
    },
    {
      "cell_type": "code",
      "source": [
        "id(countries) == id(nations)"
      ],
      "metadata": {
        "colab": {
          "base_uri": "https://localhost:8080/"
        },
        "id": "W2sIcoqxWxDM",
        "outputId": "2dd64243-0268-4018-c0b9-2b2b23e0effe"
      },
      "execution_count": 31,
      "outputs": [
        {
          "output_type": "execute_result",
          "data": {
            "text/plain": [
              "False"
            ]
          },
          "metadata": {},
          "execution_count": 31
        }
      ]
    },
    {
      "cell_type": "markdown",
      "source": [
        "The highlighted line creates nations as a shallow copy of countries by using the slicing operator with one colon only. This operation takes a slice from the beginning to the end of countries. In this case, nations and countries have different identities. They’re completely independent list objects.\n",
        "\n",
        "However, the elements in nations are aliases of the elements in countries:"
      ],
      "metadata": {
        "id": "G8MoVDVRW4WY"
      }
    },
    {
      "cell_type": "code",
      "source": [
        "id(nations[0]) == id(countries[0])"
      ],
      "metadata": {
        "colab": {
          "base_uri": "https://localhost:8080/"
        },
        "id": "x8OKCa4nWz2A",
        "outputId": "e86a6262-0ed8-4c0d-9db1-22ee2e667af0"
      },
      "execution_count": 32,
      "outputs": [
        {
          "output_type": "execute_result",
          "data": {
            "text/plain": [
              "True"
            ]
          },
          "metadata": {},
          "execution_count": 32
        }
      ]
    },
    {
      "cell_type": "markdown",
      "source": [
        "As you can see, items under the same index in both nations and countries share the same object identity. This means that you don’t have copies of the items. You’re really sharing them. This behavior allows you to save some memory when working with lists and their copies.\n",
        "\n",
        "Now, how would this impact the behavior of both lists? If you changed an item in nations, would the change reflect in countries? The code below will help you answer these questions:"
      ],
      "metadata": {
        "id": "4XpakIxwXCx4"
      }
    },
    {
      "cell_type": "code",
      "source": [
        "countries[0] = \"United States of America\"\n",
        "countries\n"
      ],
      "metadata": {
        "colab": {
          "base_uri": "https://localhost:8080/"
        },
        "id": "S6FAIFZiW8t6",
        "outputId": "e7a935bc-0173-41c8-d1e0-2df203aa6b17"
      },
      "execution_count": 33,
      "outputs": [
        {
          "output_type": "execute_result",
          "data": {
            "text/plain": [
              "['United States of America', 'Canada', 'Poland', 'Germany', 'Austria']"
            ]
          },
          "metadata": {},
          "execution_count": 33
        }
      ]
    },
    {
      "cell_type": "code",
      "source": [
        "nations"
      ],
      "metadata": {
        "colab": {
          "base_uri": "https://localhost:8080/"
        },
        "id": "JTPrz43LXF6s",
        "outputId": "a9102831-00bb-4f42-8e96-2eb3f4f8a297"
      },
      "execution_count": 34,
      "outputs": [
        {
          "output_type": "execute_result",
          "data": {
            "text/plain": [
              "['United States', 'Canada', 'Poland', 'Germany', 'Austria']"
            ]
          },
          "metadata": {},
          "execution_count": 34
        }
      ]
    },
    {
      "cell_type": "code",
      "source": [
        "id(countries[0]) == id(nations[0])"
      ],
      "metadata": {
        "colab": {
          "base_uri": "https://localhost:8080/"
        },
        "id": "UQNX19LDXIuc",
        "outputId": "1f578b8c-7d57-4f0d-ffb5-00143a13eb6b"
      },
      "execution_count": 35,
      "outputs": [
        {
          "output_type": "execute_result",
          "data": {
            "text/plain": [
              "False"
            ]
          },
          "metadata": {},
          "execution_count": 35
        }
      ]
    },
    {
      "cell_type": "markdown",
      "source": [
        "On the first line of this piece of code, you update the item at index 0 in countries. This change doesn’t affect the item at index 0 in nations. Now the first items in the lists are completely different objects with their own identities. The rest of the items, however, continue to share the same identity. So, they’re the same object in each case.\n",
        "\n",
        "Because making copies of a list is such a common operation, the list class has a dedicated method for it. The method is called .copy(), and it returns a shallow copy of the target list:"
      ],
      "metadata": {
        "id": "TLH6EFlpXXUf"
      }
    },
    {
      "cell_type": "code",
      "source": [
        "countries = [\"United States\", \"Canada\", \"Poland\", \"Germany\", \"Austria\"]\n",
        "\n",
        "nations = countries.copy()\n",
        "nations"
      ],
      "metadata": {
        "colab": {
          "base_uri": "https://localhost:8080/"
        },
        "id": "4F3_JK82XMit",
        "outputId": "e3cc2d3c-cd78-4beb-c0a4-ae17ed2f03ce"
      },
      "execution_count": 36,
      "outputs": [
        {
          "output_type": "execute_result",
          "data": {
            "text/plain": [
              "['United States', 'Canada', 'Poland', 'Germany', 'Austria']"
            ]
          },
          "metadata": {},
          "execution_count": 36
        }
      ]
    },
    {
      "cell_type": "code",
      "source": [
        "id(countries) == id(nations)"
      ],
      "metadata": {
        "colab": {
          "base_uri": "https://localhost:8080/"
        },
        "id": "mI2YWbSgXcPf",
        "outputId": "68e35d02-6673-4793-8c38-db0b8bf0511c"
      },
      "execution_count": 37,
      "outputs": [
        {
          "output_type": "execute_result",
          "data": {
            "text/plain": [
              "False"
            ]
          },
          "metadata": {},
          "execution_count": 37
        }
      ]
    },
    {
      "cell_type": "code",
      "source": [
        "id(countries[0]) == id(nations[0])"
      ],
      "metadata": {
        "colab": {
          "base_uri": "https://localhost:8080/"
        },
        "id": "zKLSZbmYXeAZ",
        "outputId": "8b770fe8-2514-416a-a2c5-1a03006de200"
      },
      "execution_count": 38,
      "outputs": [
        {
          "output_type": "execute_result",
          "data": {
            "text/plain": [
              "True"
            ]
          },
          "metadata": {},
          "execution_count": 38
        }
      ]
    },
    {
      "cell_type": "code",
      "source": [
        "countries[0] = \"United States of America\"\n",
        "countries"
      ],
      "metadata": {
        "colab": {
          "base_uri": "https://localhost:8080/"
        },
        "id": "H-L-cX3kXf-B",
        "outputId": "b6566572-0a6e-459d-85c0-fffa41b01702"
      },
      "execution_count": 39,
      "outputs": [
        {
          "output_type": "execute_result",
          "data": {
            "text/plain": [
              "['United States of America', 'Canada', 'Poland', 'Germany', 'Austria']"
            ]
          },
          "metadata": {},
          "execution_count": 39
        }
      ]
    },
    {
      "cell_type": "code",
      "source": [
        "nations"
      ],
      "metadata": {
        "colab": {
          "base_uri": "https://localhost:8080/"
        },
        "id": "Bo1yDCnDXiuA",
        "outputId": "f6c22ab0-97b4-4813-fb15-067c28c0352b"
      },
      "execution_count": 40,
      "outputs": [
        {
          "output_type": "execute_result",
          "data": {
            "text/plain": [
              "['United States', 'Canada', 'Poland', 'Germany', 'Austria']"
            ]
          },
          "metadata": {},
          "execution_count": 40
        }
      ]
    },
    {
      "cell_type": "markdown",
      "source": [
        "## Deep Copies of a List\n",
        "Sometimes you may need to build a complete copy of an existing list. In other words, you want a copy that creates a new list object and also creates new copies of the contained elements. In these situations, you’ll have to construct what’s known as a deep copy.\n",
        "\n",
        "When you create a deep copy of a list, Python constructs a new list object and then inserts copies of the objects from the original list recursively.\n",
        "\n",
        "To create a deep copy of an existing list, you can use the deepcopy() function from the copy module. Here’s an example of how this function works:"
      ],
      "metadata": {
        "id": "OwDfh4eHXtgH"
      }
    },
    {
      "cell_type": "code",
      "source": [
        "from copy import deepcopy\n",
        "\n",
        "matrix = [[1, 2, 3], [4, 5, 6], [7, 8, 9]]\n",
        "matrix_copy = deepcopy(matrix)\n",
        "\n",
        "id(matrix) == id(matrix_copy)"
      ],
      "metadata": {
        "colab": {
          "base_uri": "https://localhost:8080/"
        },
        "id": "LLwrznTwXoWF",
        "outputId": "c552768e-5328-4178-e0e2-3eb30b26b9e6"
      },
      "execution_count": 41,
      "outputs": [
        {
          "output_type": "execute_result",
          "data": {
            "text/plain": [
              "False"
            ]
          },
          "metadata": {},
          "execution_count": 41
        }
      ]
    },
    {
      "cell_type": "code",
      "source": [
        "id(matrix[0]) == id(matrix_copy[0])"
      ],
      "metadata": {
        "colab": {
          "base_uri": "https://localhost:8080/"
        },
        "id": "PXdUWotkXzG5",
        "outputId": "2bc866e0-1d50-471e-f8e8-0c49e83a6e2f"
      },
      "execution_count": 42,
      "outputs": [
        {
          "output_type": "execute_result",
          "data": {
            "text/plain": [
              "False"
            ]
          },
          "metadata": {},
          "execution_count": 42
        }
      ]
    },
    {
      "cell_type": "markdown",
      "source": [
        "In this example, you create a deep copy of your matrix list. Note how both the lists and their sibling items have different identities.\n",
        "\n",
        "Why would you need to create a deep copy of matrix, anyway? For example, if you only create a shallow copy of matrix, then you can face some issues when trying to mutate the nested lists:"
      ],
      "metadata": {
        "id": "CkeA9kE3X51S"
      }
    },
    {
      "cell_type": "code",
      "source": [
        "from copy import copy\n",
        "\n",
        "matrix_copy = copy(matrix)\n",
        "matrix_copy[0][0] = 100\n",
        "matrix_copy[0][1] = 200\n",
        "matrix_copy[0][2] = 300\n",
        "matrix_copy"
      ],
      "metadata": {
        "colab": {
          "base_uri": "https://localhost:8080/"
        },
        "id": "pNTF9OvXX1Ay",
        "outputId": "dc14d83a-c8ab-4ca8-da30-9c8eb2f6e27f"
      },
      "execution_count": 43,
      "outputs": [
        {
          "output_type": "execute_result",
          "data": {
            "text/plain": [
              "[[100, 200, 300], [4, 5, 6], [7, 8, 9]]"
            ]
          },
          "metadata": {},
          "execution_count": 43
        }
      ]
    },
    {
      "cell_type": "code",
      "source": [
        "matrix"
      ],
      "metadata": {
        "colab": {
          "base_uri": "https://localhost:8080/"
        },
        "id": "CjCoVtlWYBKn",
        "outputId": "3e164f6e-3995-44a0-b369-f5949581e0f3"
      },
      "execution_count": 44,
      "outputs": [
        {
          "output_type": "execute_result",
          "data": {
            "text/plain": [
              "[[100, 200, 300], [4, 5, 6], [7, 8, 9]]"
            ]
          },
          "metadata": {},
          "execution_count": 44
        }
      ]
    },
    {
      "cell_type": "markdown",
      "source": [
        "In this example, you create a shallow copy of matrix. If you change items in a nested list within matrix_copy, then those changes affect the original data in matrix. The way to avoid this behavior is to use a deep copy:"
      ],
      "metadata": {
        "id": "snSpOjmrYKbD"
      }
    },
    {
      "cell_type": "code",
      "source": [
        "matrix = [[1, 2, 3], [4, 5, 6], [7, 8, 9]]\n",
        "\n",
        "matrix_copy = deepcopy(matrix)\n",
        "matrix_copy[0][0] = 100\n",
        "matrix_copy[0][1] = 200\n",
        "matrix_copy[0][2] = 300\n",
        "matrix_copy"
      ],
      "metadata": {
        "colab": {
          "base_uri": "https://localhost:8080/"
        },
        "id": "_GG7PTrfYEyz",
        "outputId": "1ec07437-6fc1-4534-a533-fb1a9254dc4c"
      },
      "execution_count": 45,
      "outputs": [
        {
          "output_type": "execute_result",
          "data": {
            "text/plain": [
              "[[100, 200, 300], [4, 5, 6], [7, 8, 9]]"
            ]
          },
          "metadata": {},
          "execution_count": 45
        }
      ]
    },
    {
      "cell_type": "code",
      "source": [
        "matrix"
      ],
      "metadata": {
        "colab": {
          "base_uri": "https://localhost:8080/"
        },
        "id": "jNo9sKcvYNo6",
        "outputId": "8a7dd3d4-e3a1-487d-b950-1253e9b0ad12"
      },
      "execution_count": 46,
      "outputs": [
        {
          "output_type": "execute_result",
          "data": {
            "text/plain": [
              "[[1, 2, 3], [4, 5, 6], [7, 8, 9]]"
            ]
          },
          "metadata": {},
          "execution_count": 46
        }
      ]
    },
    {
      "cell_type": "markdown",
      "source": [
        "# Updating Items in Lists: Index Assignments\n",
        "Python lists are mutable data types. This means that you can change their elements without changing the identity of the underlying list. These kinds of changes are commonly known as in-place mutations. They allow you to update the value of one or more items in an existing list.\n",
        "\n",
        "Note: To dive deeper into what mutable and immutable data types are and how they work in Python, check out Python’s Mutable vs Immutable Types: What’s the Difference?\n",
        "To change the value of a given element in a list, you can use the following syntax:\n",
        "\n",
        "list_object[index] = new_value\n",
        "The indexing operator gives you access to the target item through its index, while the assignment operator allows you to change its current value.\n",
        "\n",
        "Here’s how this assignment works:"
      ],
      "metadata": {
        "id": "pbeDOgRzY0zK"
      }
    },
    {
      "cell_type": "code",
      "source": [
        "numbers = [1, 2, 3, 4]\n",
        "\n",
        "numbers[0] = \"one\"\n",
        "numbers\n",
        "\n",
        "numbers[1] = \"two\"\n",
        "numbers\n",
        "\n",
        "\n",
        "numbers[-1] = \"four\"\n",
        "numbers\n",
        "\n",
        "numbers[-2] = \"three\"\n",
        "numbers"
      ],
      "metadata": {
        "colab": {
          "base_uri": "https://localhost:8080/"
        },
        "id": "Ff1bIKduYPTh",
        "outputId": "eb1bfb77-aeaa-418c-a2a4-49b92161bca2"
      },
      "execution_count": 47,
      "outputs": [
        {
          "output_type": "execute_result",
          "data": {
            "text/plain": [
              "['one', 'two', 'three', 'four']"
            ]
          },
          "metadata": {},
          "execution_count": 47
        }
      ]
    },
    {
      "cell_type": "markdown",
      "source": [
        "In this example, you’ve replaced all the numeric values in numbers with strings. To do that, you’ve used their indices and the assignment operator in what you can call index assignments. Note that negative indices also work.\n",
        "\n",
        "What if you know an item’s value but don’t know its index in the list? How can you update the item’s value? In this case, you can use the .index() method as in the code below:"
      ],
      "metadata": {
        "id": "FKEqWRVQY_5y"
      }
    },
    {
      "cell_type": "code",
      "source": [
        "fruits = [\"apple\", \"banana\", \"orange\", \"kiwi\", \"grape\"]\n",
        "\n",
        "fruits[fruits.index(\"kiwi\")] = \"mango\"\n",
        "fruits"
      ],
      "metadata": {
        "colab": {
          "base_uri": "https://localhost:8080/"
        },
        "id": "o4UJuEkpY50o",
        "outputId": "7c04e8fb-dcc9-4748-9f59-b8684a5577e9"
      },
      "execution_count": 48,
      "outputs": [
        {
          "output_type": "execute_result",
          "data": {
            "text/plain": [
              "['apple', 'banana', 'orange', 'mango', 'grape']"
            ]
          },
          "metadata": {},
          "execution_count": 48
        }
      ]
    },
    {
      "cell_type": "markdown",
      "source": [
        "The .index() method takes a specific item as an argument and returns the index of the first occurrence of that item in the underlying list. You can take advantage of this behavior when you know the item that you want to update but not its index. However, note that if the target item isn’t present in the list, then you’ll get a ValueError.\n",
        "\n",
        "You can also update the value of multiple list items in one go. To do that, you can access the items with the slicing operator and then use the assignment operator and an iterable of new values. This combination of operators can be called slice assignment for short.\n",
        "\n",
        "Here’s the general syntax:\n",
        "\n",
        "list_object[start:stop:step] = iterable\n",
        "In this syntax, the values from iterable replace the portion of list_object defined by the slicing operator. If iterable has the same number of elements as the target slice, then Python updates the elements one by one without altering the length of list_object.\n",
        "\n",
        "To understand these behaviors, consider the following examples:"
      ],
      "metadata": {
        "id": "RCZfbMPvZJcz"
      }
    },
    {
      "cell_type": "code",
      "source": [
        "numbers = [1, 2, 3, 4, 5, 6, 7]\n",
        "\n",
        "numbers[1:4] = [22, 33, 44]\n",
        "numbers"
      ],
      "metadata": {
        "colab": {
          "base_uri": "https://localhost:8080/"
        },
        "id": "GhAtfRqsZCXj",
        "outputId": "0a8eca35-9236-4eeb-de33-f4e5441275b9"
      },
      "execution_count": 49,
      "outputs": [
        {
          "output_type": "execute_result",
          "data": {
            "text/plain": [
              "[1, 22, 33, 44, 5, 6, 7]"
            ]
          },
          "metadata": {},
          "execution_count": 49
        }
      ]
    },
    {
      "cell_type": "markdown",
      "source": [
        "# Growing and Shrinking Lists Dynamically\n",
        "In Python lists, mutability goes beyond allowing you to modify the items in place. Because lists are mutable, you can change their length on the fly by adding or removing elements. So, lists are also variable-length containers, as you already learned.\n",
        "\n",
        "Adding new items to a list or removing unneeded ones are everyday tasks. That’s why Python provides different efficient ways to perform these actions. Using the right tool for the job is an essential skill.\n",
        "\n",
        "In the following sections, you’ll explore the different tools that Python offers to grow and shrink a list dynamically.\n",
        "\n",
        "## Appending a Single Item at Once: .append()\n",
        "The .append() method is probably the most common tool that you’ll use to add items to an existing list. As its name suggests, this method allows you to append items to a list. The method takes one item at a time and adds it to the right end of the target list.\n",
        "\n",
        "Here’s an example of how .append() works:"
      ],
      "metadata": {
        "id": "6580sb-bZRL0"
      }
    },
    {
      "cell_type": "code",
      "source": [
        "pets = [\"cat\", \"dog\"]\n",
        "\n",
        "pets.append(\"parrot\")\n",
        "pets\n",
        "\n",
        "\n",
        "pets.append(\"gold fish\")\n",
        "pets\n",
        "\n",
        "\n",
        "pets.append(\"python\")\n",
        "pets"
      ],
      "metadata": {
        "colab": {
          "base_uri": "https://localhost:8080/"
        },
        "id": "DiqovN3tZMMU",
        "outputId": "c84bdcd9-0c31-4b48-9c2e-9c6dcaed6685"
      },
      "execution_count": 50,
      "outputs": [
        {
          "output_type": "execute_result",
          "data": {
            "text/plain": [
              "['cat', 'dog', 'parrot', 'gold fish', 'python']"
            ]
          },
          "metadata": {},
          "execution_count": 50
        }
      ]
    },
    {
      "cell_type": "markdown",
      "source": [
        "**An important fact to keep in mind when using .append() is that this method adds only a single item at a time. That item could be of any data type, including another list:**"
      ],
      "metadata": {
        "id": "ykhBFHIyZdyr"
      }
    },
    {
      "cell_type": "code",
      "source": [
        "pets.append([\"hamster\", \"turtle\"])\n",
        "pets"
      ],
      "metadata": {
        "colab": {
          "base_uri": "https://localhost:8080/"
        },
        "id": "0-Pkx5qJZW_I",
        "outputId": "497b71af-7ecf-482a-8403-a767c2ea4557"
      },
      "execution_count": 51,
      "outputs": [
        {
          "output_type": "execute_result",
          "data": {
            "text/plain": [
              "['cat', 'dog', 'parrot', 'gold fish', 'python', ['hamster', 'turtle']]"
            ]
          },
          "metadata": {},
          "execution_count": 51
        }
      ]
    },
    {
      "cell_type": "markdown",
      "source": [
        "Note how the last item in pets is a list of two pets rather than two new independent pets. This behavior may be a source of subtle errors. To avoid problems, you must remember that .append() takes and adds a single item each time.\n",
        "\n",
        "If you need to add several items from an iterable at the end of an existing list, then you can use the .extend() method, which you’ll expore in the following section.\n",
        "\n",
        "## Extending a List With Multiple Items at Once: .extend()\n",
        "When you’re working with lists, you may face the need to add multiple items to the right end of a list at once. Because this is such a common requirement, Python’s list has a dedicated method for that task.\n",
        "\n",
        "The method is called .extend(). It takes an iterable of objects and appends them as individual items to the end of the target list:"
      ],
      "metadata": {
        "id": "aI43T2S0Zku5"
      }
    },
    {
      "cell_type": "code",
      "source": [
        "fruits = [\"apple\", \"pear\", \"peach\"]\n",
        "\n",
        "fruits.extend([\"orange\", \"mango\", \"banana\"])\n",
        "fruits"
      ],
      "metadata": {
        "colab": {
          "base_uri": "https://localhost:8080/"
        },
        "id": "b4-jVqLIZhWL",
        "outputId": "90d5a86e-eda2-40a6-e747-ec45ba432aa1"
      },
      "execution_count": 52,
      "outputs": [
        {
          "output_type": "execute_result",
          "data": {
            "text/plain": [
              "['apple', 'pear', 'peach', 'orange', 'mango', 'banana']"
            ]
          },
          "metadata": {},
          "execution_count": 52
        }
      ]
    },
    {
      "cell_type": "markdown",
      "source": [
        "The .extend() method unpacks the items in the input iterable and adds them one by one to the right end of your target list. Now fruits has three more items on its end.\n",
        "\n",
        "You should note that .extend() can take any iterable as an argument. So, you can use tuples, strings, dictionaries and their components, iterators, and even sets. However, remember that if you use a set as an argument to extend(), then you won’t know the final order of items beforehand."
      ],
      "metadata": {
        "id": "T6D9LwS8ZtxE"
      }
    },
    {
      "cell_type": "markdown",
      "source": [
        "## Inserting an Item at a Given Position: .insert()\n",
        "The .insert() method is another tool that you can use to add items to an existing list. This method is a bit different from .append() and .extend(). Instead of adding items at the right end of the list, .insert() allows you to decide where you want to put your item. That said, .insert() takes two arguments:\n",
        "\n",
        "index: the index at which you want to insert the item\n",
        "item: the item that you need to insert into the list\n",
        "When you insert an item at a given index, Python moves all the following items one position to the right in order to make space for the new item, which will take the place of the old item at the target index:"
      ],
      "metadata": {
        "id": "kbu2Oob1Zy3h"
      }
    },
    {
      "cell_type": "code",
      "source": [
        "letters = [\"A\", \"B\", \"F\", \"G\"]\n",
        "\n",
        "letters.insert(2, \"C\")\n",
        "letters"
      ],
      "metadata": {
        "colab": {
          "base_uri": "https://localhost:8080/"
        },
        "id": "Tb72-rnjZoeT",
        "outputId": "72113b96-5e3e-404d-c03d-e583f146d64e"
      },
      "execution_count": 53,
      "outputs": [
        {
          "output_type": "execute_result",
          "data": {
            "text/plain": [
              "['A', 'B', 'C', 'F', 'G']"
            ]
          },
          "metadata": {},
          "execution_count": 53
        }
      ]
    },
    {
      "cell_type": "markdown",
      "source": [
        "## Deleting Items From a List\n",
        "Python also allows you to remove one or more items from an existing list. Again, deleting items from lists is such a common operation that the list class already has methods to help you with that. You’ll have the following methods:\n",
        "\n",
        "Method\tDescription\n",
        ".remove(item)\tRemoves the first occurrence of item from the list. It raises a ValueError if there’s no such item.\n",
        ".pop([index])\tRemoves the item at index and returns it back to the caller. If you don’t provide a target index, then .pop() removes and returns the last item in the list. Note that the square brackets around index mean that the argument is optional. The brackets aren’t part of the syntax.\n",
        ".clear()\tRemoves all items from the list.\n",
        "The .remove() method comes in handy when you want to remove an item from a list, but you don’t know the item’s index. If you have several items with the same value, then you can remove all of them by calling .remove() as many times as the item occurs:"
      ],
      "metadata": {
        "id": "zf8p-2bkZ6g5"
      }
    },
    {
      "cell_type": "code",
      "source": [
        "sample = [12, 11, 10, 42, 14, 12, 42]\n",
        "\n",
        "sample.remove(42)\n",
        "sample"
      ],
      "metadata": {
        "colab": {
          "base_uri": "https://localhost:8080/"
        },
        "id": "54gk6hp5Z1ti",
        "outputId": "4281d18a-b9b3-4ed5-f641-4a04da55f638"
      },
      "execution_count": 54,
      "outputs": [
        {
          "output_type": "execute_result",
          "data": {
            "text/plain": [
              "[12, 11, 10, 14, 12, 42]"
            ]
          },
          "metadata": {},
          "execution_count": 54
        }
      ]
    },
    {
      "cell_type": "code",
      "source": [
        "sample.remove(42)\n",
        "sample"
      ],
      "metadata": {
        "colab": {
          "base_uri": "https://localhost:8080/"
        },
        "id": "GUKaqyKVZ_RQ",
        "outputId": "dca602be-fab0-4b1e-99a5-ba1a54bc06a8"
      },
      "execution_count": 55,
      "outputs": [
        {
          "output_type": "execute_result",
          "data": {
            "text/plain": [
              "[12, 11, 10, 14, 12]"
            ]
          },
          "metadata": {},
          "execution_count": 55
        }
      ]
    },
    {
      "cell_type": "code",
      "source": [
        "sample.remove(42)"
      ],
      "metadata": {
        "colab": {
          "base_uri": "https://localhost:8080/",
          "height": 144
        },
        "id": "ocLDy4Z9aAzu",
        "outputId": "e2392733-b1b3-4382-b4bd-c9ee47d69ab0"
      },
      "execution_count": 56,
      "outputs": [
        {
          "output_type": "error",
          "ename": "ValueError",
          "evalue": "list.remove(x): x not in list",
          "traceback": [
            "\u001b[0;31m---------------------------------------------------------------------------\u001b[0m",
            "\u001b[0;31mValueError\u001b[0m                                Traceback (most recent call last)",
            "\u001b[0;32m<ipython-input-56-dbf05d8dc7ca>\u001b[0m in \u001b[0;36m<cell line: 1>\u001b[0;34m()\u001b[0m\n\u001b[0;32m----> 1\u001b[0;31m \u001b[0msample\u001b[0m\u001b[0;34m.\u001b[0m\u001b[0mremove\u001b[0m\u001b[0;34m(\u001b[0m\u001b[0;36m42\u001b[0m\u001b[0;34m)\u001b[0m\u001b[0;34m\u001b[0m\u001b[0;34m\u001b[0m\u001b[0m\n\u001b[0m",
            "\u001b[0;31mValueError\u001b[0m: list.remove(x): x not in list"
          ]
        }
      ]
    },
    {
      "cell_type": "markdown",
      "source": [
        "The first call to .remove() deletes the first instance of the number 42. The second call removes the remaining instance of 42. If you call .remove() with an item that’s not in the target list, then you get a ValueError.\n",
        "\n",
        "The .pop() method allows you to remove and return a specific item using its index. If you call the method with no index, then it removes and returns the last item in the underlying list:"
      ],
      "metadata": {
        "id": "EXYR3l03aFYF"
      }
    },
    {
      "cell_type": "code",
      "source": [
        "to_visit = [\n",
        "    \"https://realpython.com\",\n",
        "    \"https://python.org\",\n",
        "    \"https://stackoverflow.com\",\n",
        "]\n",
        "\n",
        "visited = to_visit.pop()\n",
        "visited"
      ],
      "metadata": {
        "colab": {
          "base_uri": "https://localhost:8080/",
          "height": 35
        },
        "id": "RDVXwK4waC7O",
        "outputId": "b9c2f52f-7262-45a6-f5a4-2c64297329ee"
      },
      "execution_count": 58,
      "outputs": [
        {
          "output_type": "execute_result",
          "data": {
            "text/plain": [
              "'https://stackoverflow.com'"
            ],
            "application/vnd.google.colaboratory.intrinsic+json": {
              "type": "string"
            }
          },
          "metadata": {},
          "execution_count": 58
        }
      ]
    },
    {
      "cell_type": "code",
      "source": [
        "to_visit"
      ],
      "metadata": {
        "colab": {
          "base_uri": "https://localhost:8080/"
        },
        "id": "JUbup1HAaKRU",
        "outputId": "d3ceeb57-e2b0-4346-9264-c81519731e15"
      },
      "execution_count": 59,
      "outputs": [
        {
          "output_type": "execute_result",
          "data": {
            "text/plain": [
              "['https://realpython.com', 'https://python.org']"
            ]
          },
          "metadata": {},
          "execution_count": 59
        }
      ]
    },
    {
      "cell_type": "code",
      "source": [
        "visited = to_visit.pop(0)\n",
        "visited"
      ],
      "metadata": {
        "colab": {
          "base_uri": "https://localhost:8080/",
          "height": 35
        },
        "id": "IgXMbFpiaOgw",
        "outputId": "e5da33fb-262c-42e5-9ca0-53d026171079"
      },
      "execution_count": 60,
      "outputs": [
        {
          "output_type": "execute_result",
          "data": {
            "text/plain": [
              "'https://realpython.com'"
            ],
            "application/vnd.google.colaboratory.intrinsic+json": {
              "type": "string"
            }
          },
          "metadata": {},
          "execution_count": 60
        }
      ]
    },
    {
      "cell_type": "code",
      "source": [
        "to_visit"
      ],
      "metadata": {
        "colab": {
          "base_uri": "https://localhost:8080/"
        },
        "id": "emUSjcYQaRAI",
        "outputId": "0dd67023-00fe-4764-a25d-5f724e3fe242"
      },
      "execution_count": 61,
      "outputs": [
        {
          "output_type": "execute_result",
          "data": {
            "text/plain": [
              "['https://python.org']"
            ]
          },
          "metadata": {},
          "execution_count": 61
        }
      ]
    },
    {
      "cell_type": "markdown",
      "source": [
        "In these examples, the first call to .pop() removes and returns the last site in your list of sites to visit. The second call removes and returns the first site, which is the site at index 0.\n",
        "\n",
        "Finally, you use .pop() with -1 as an argument to emphasize that you can also use negative indices. This call removes and returns the last item. At the end of the process, your list of sites to visit is empty, pointing out that you’ve done all your planned visits.\n",
        "\n",
        "Removing all the items from a list in one go can be another frequent task. In this case, Python also has you covered because list has a method called .clear(), which does exactly that. Consider the following example:"
      ],
      "metadata": {
        "id": "O1E10o5YaaGI"
      }
    },
    {
      "cell_type": "code",
      "source": [
        "cache = [0, 1, 1, 2, 3, 5, 8, 13, 21, 34, 55, 89]\n",
        "cache.clear()\n",
        "cache"
      ],
      "metadata": {
        "colab": {
          "base_uri": "https://localhost:8080/"
        },
        "id": "aKYWCEcEaSi8",
        "outputId": "cf2e7485-e3b4-4794-d063-9d2477aa2c9f"
      },
      "execution_count": 62,
      "outputs": [
        {
          "output_type": "execute_result",
          "data": {
            "text/plain": [
              "[]"
            ]
          },
          "metadata": {},
          "execution_count": 62
        }
      ]
    },
    {
      "cell_type": "markdown",
      "source": [
        "There’s still one more Python tool that you can use to remove one or more items from an existing list. Yes, that’s the del statement. You can combine del with an indexing or slicing operation to remove an item or multiple items, respectively:"
      ],
      "metadata": {
        "id": "45t2bbrsakcw"
      }
    },
    {
      "cell_type": "code",
      "source": [
        "colors = [\n",
        "    \"red\",\n",
        "    \"orange\",\n",
        "    \"yellow\",\n",
        "    \"green\",\n",
        "    \"blue\",\n",
        "    \"indigo\",\n",
        "    \"violet\"\n",
        "]\n",
        "\n",
        "del colors[1]\n",
        "colors"
      ],
      "metadata": {
        "colab": {
          "base_uri": "https://localhost:8080/"
        },
        "id": "Rb0Y6F4BadBH",
        "outputId": "8745bd28-f88c-496d-a902-355651aa3e50"
      },
      "execution_count": 63,
      "outputs": [
        {
          "output_type": "execute_result",
          "data": {
            "text/plain": [
              "['red', 'yellow', 'green', 'blue', 'indigo', 'violet']"
            ]
          },
          "metadata": {},
          "execution_count": 63
        }
      ]
    },
    {
      "cell_type": "markdown",
      "source": [
        "## Considering Performance While Growing Lists\n",
        "When you create a list, Python allocates enough space to store the provided items. It also allocates extra space to host future items. When you use the extra space by adding new items to that list with .append(), .extend(), or .insert(), Python automatically creates room for additional new items.\n",
        "\n",
        "This process is known as resizing, and while it ensures that the list can accept new items, it requires extra CPU time and additional memory. Why? Well, to grow an existing list, Python creates a new one with room for your current data and the extra items. Then it moves the current items to the new list and adds the new item or items.\n",
        "\n",
        "Consider the following code to explore how Python grows a list dynamically:"
      ],
      "metadata": {
        "id": "v8Ei_3PRbEiK"
      }
    },
    {
      "cell_type": "code",
      "source": [
        "from sys import getsizeof\n",
        "\n",
        "numbers = []\n",
        "for value in range(100):\n",
        "    print(getsizeof(numbers))\n",
        "    numbers.append(value)"
      ],
      "metadata": {
        "colab": {
          "base_uri": "https://localhost:8080/"
        },
        "id": "MRm4qRpRanV_",
        "outputId": "0dfeff3e-9c32-4200-d718-0f018b04ed7e"
      },
      "execution_count": 64,
      "outputs": [
        {
          "output_type": "stream",
          "name": "stdout",
          "text": [
            "56\n",
            "88\n",
            "88\n",
            "88\n",
            "88\n",
            "120\n",
            "120\n",
            "120\n",
            "120\n",
            "184\n",
            "184\n",
            "184\n",
            "184\n",
            "184\n",
            "184\n",
            "184\n",
            "184\n",
            "248\n",
            "248\n",
            "248\n",
            "248\n",
            "248\n",
            "248\n",
            "248\n",
            "248\n",
            "312\n",
            "312\n",
            "312\n",
            "312\n",
            "312\n",
            "312\n",
            "312\n",
            "312\n",
            "376\n",
            "376\n",
            "376\n",
            "376\n",
            "376\n",
            "376\n",
            "376\n",
            "376\n",
            "472\n",
            "472\n",
            "472\n",
            "472\n",
            "472\n",
            "472\n",
            "472\n",
            "472\n",
            "472\n",
            "472\n",
            "472\n",
            "472\n",
            "568\n",
            "568\n",
            "568\n",
            "568\n",
            "568\n",
            "568\n",
            "568\n",
            "568\n",
            "568\n",
            "568\n",
            "568\n",
            "568\n",
            "664\n",
            "664\n",
            "664\n",
            "664\n",
            "664\n",
            "664\n",
            "664\n",
            "664\n",
            "664\n",
            "664\n",
            "664\n",
            "664\n",
            "792\n",
            "792\n",
            "792\n",
            "792\n",
            "792\n",
            "792\n",
            "792\n",
            "792\n",
            "792\n",
            "792\n",
            "792\n",
            "792\n",
            "792\n",
            "792\n",
            "792\n",
            "792\n",
            "920\n",
            "920\n",
            "920\n",
            "920\n",
            "920\n",
            "920\n",
            "920\n"
          ]
        }
      ]
    },
    {
      "cell_type": "markdown",
      "source": [
        "In this code snippet, you first import getsizeof() from the sys module. This function allows you to get the size of an object in bytes. Then you define numbers as an empty list.\n",
        "\n",
        "Inside the for loop, you get and print your list object’s size in bytes. The first iteration shows that the size of your empty list is 56 bytes, which is the baseline size of every list in Python.\n",
        "\n",
        "Next, the .append() method adds a new value to your list. Note how the size of numbers grows to 88 bytes. That’s the baseline size plus 32 additional bytes (56 + 4 × 8 = 88), which represent four 8-byte pointers or slots for future items. It means that Python went ahead and allocated space for four items when you added the first element.\n",
        "\n",
        "As the loop goes, the size of numbers grows to 120 bytes, which is 88 + 4 × 8 = 120. This step allocates space for four more items. That’s why you get 120 four times on your screen.\n",
        "\n",
        "If you follow the loop’s output, then you’ll notice that the next steps add room for eight extra items, then for twelve, then for sixteen, and so on. Every time Python resizes the list, it has to move all the items to the new space, which takes considerable time.\n",
        "\n",
        "In practice, if you’re working with small lists, then the overall impact of this internal behavior is negligible. However, in performance-critical situations or when your lists are large, you may want to use more efficient data types, such as collections.deque, for example.\n",
        "\n",
        "Check out the time complexity Wiki page for a detailed summary of how time-efficient list operations are. For example, the .append() method has a time complexity of O(1), which means that appending an item to a list takes constant time. However, when Python has to grow the list to make room for the new item, this performance will be a bit poorer.\n",
        "\n",
        "Being aware of the time complexity of common list operations will significantly improve your ability to choose the right tool for the job, depending on your specific needs."
      ],
      "metadata": {
        "id": "VEsg8BMibZdL"
      }
    },
    {
      "cell_type": "markdown",
      "source": [
        "# Reversing and Sorting Lists\n",
        "Reversing and specially sorting lists of values are commonplace tasks in programming. In Python, you’ll have the built-in reversed() and sorted() functions to perform these tasks. When you’re working with lists, then you also have the .reverse() and .sort() methods, which reverse and sort the target list in place.\n",
        "\n",
        "In the following sections, you’ll learn how to reverse and sort lists using the tools that Python provides for these tasks.\n",
        "\n",
        "## Reversing a List: reversed() and .reverse()\n",
        "The built-in reversed() function takes a sequence as an argument and returns an iterator that yields the values of that sequence in reverse order:"
      ],
      "metadata": {
        "id": "myivgVbrbfPZ"
      }
    },
    {
      "cell_type": "code",
      "source": [
        "digits = [0, 1, 2, 3, 4, 5, 6, 7, 8, 9]\n",
        "\n",
        "digits = reversed(digits)\n",
        "type(digits)"
      ],
      "metadata": {
        "colab": {
          "base_uri": "https://localhost:8080/"
        },
        "id": "0dZiSQ-sbOqQ",
        "outputId": "bcc7c443-23d5-4104-d448-39a5d8edb88b"
      },
      "execution_count": 70,
      "outputs": [
        {
          "output_type": "execute_result",
          "data": {
            "text/plain": [
              "list_reverseiterator"
            ]
          },
          "metadata": {},
          "execution_count": 70
        }
      ]
    },
    {
      "cell_type": "code",
      "source": [
        "list(digits)"
      ],
      "metadata": {
        "colab": {
          "base_uri": "https://localhost:8080/"
        },
        "id": "4EN5jr5ibwuh",
        "outputId": "b040f189-6865-4e59-8abd-2adce1e0e1ce"
      },
      "execution_count": 71,
      "outputs": [
        {
          "output_type": "execute_result",
          "data": {
            "text/plain": [
              "[9, 8, 7, 6, 5, 4, 3, 2, 1, 0]"
            ]
          },
          "metadata": {},
          "execution_count": 71
        }
      ]
    },
    {
      "cell_type": "code",
      "source": [
        "list(reversed(digits))\n",
        "\n",
        "\n",
        "digits"
      ],
      "metadata": {
        "colab": {
          "base_uri": "https://localhost:8080/"
        },
        "id": "qG0X4vD0bkTM",
        "outputId": "3bf805de-83cd-45c9-82b1-01efc96503d4"
      },
      "execution_count": 68,
      "outputs": [
        {
          "output_type": "execute_result",
          "data": {
            "text/plain": [
              "[0, 1, 2, 3, 4, 5, 6, 7, 8, 9]"
            ]
          },
          "metadata": {},
          "execution_count": 68
        }
      ]
    },
    {
      "cell_type": "markdown",
      "source": [
        "When you call reversed() with a list as an argument, you get a reverse iterator object. This iterator yields values from the input list in reverse order. In this example, you use the list() constructor to consume the iterator and get the reversed data as a list.\n",
        "\n",
        "The reversed() function doesn’t modify the input object. You’ll typically use reversed() in loops as a way to iterate over your data in reverse order. If you need to keep a reference to your data, then you can use list() and assign its return value to a new variable, which will be completely independent of your original sequence.\n",
        "\n",
        "It’s important to note that reversed() retrieves items from the input sequence lazily. This means that if something changes in the input sequence during the reversing process, then those changes will reflect in the final result:"
      ],
      "metadata": {
        "id": "WmTnB4wNcCl2"
      }
    },
    {
      "cell_type": "code",
      "source": [
        "numbers = [1, 2, 3]\n",
        "\n",
        "reversed_numbers = reversed(numbers)\n",
        "next(reversed_numbers)"
      ],
      "metadata": {
        "colab": {
          "base_uri": "https://localhost:8080/"
        },
        "id": "8-uw9Qs8bnrI",
        "outputId": "5cf03735-ddb5-47c1-cc51-9ec9854deb69"
      },
      "execution_count": 72,
      "outputs": [
        {
          "output_type": "execute_result",
          "data": {
            "text/plain": [
              "3"
            ]
          },
          "metadata": {},
          "execution_count": 72
        }
      ]
    },
    {
      "cell_type": "code",
      "source": [
        "numbers[1] = 222\n",
        "next(reversed_numbers)\n"
      ],
      "metadata": {
        "colab": {
          "base_uri": "https://localhost:8080/"
        },
        "id": "sO89k5FQcIkq",
        "outputId": "fbaba14a-23ab-480f-a3d9-76e4ade956e9"
      },
      "execution_count": 73,
      "outputs": [
        {
          "output_type": "execute_result",
          "data": {
            "text/plain": [
              "222"
            ]
          },
          "metadata": {},
          "execution_count": 73
        }
      ]
    },
    {
      "cell_type": "code",
      "source": [
        "next(reversed_numbers)"
      ],
      "metadata": {
        "colab": {
          "base_uri": "https://localhost:8080/"
        },
        "id": "TaoxJb1KcO3k",
        "outputId": "9c696ab0-e789-4d45-80b3-f55cec348c6e"
      },
      "execution_count": 74,
      "outputs": [
        {
          "output_type": "execute_result",
          "data": {
            "text/plain": [
              "1"
            ]
          },
          "metadata": {},
          "execution_count": 74
        }
      ]
    },
    {
      "cell_type": "markdown",
      "source": [
        "In this example, you use the built-in next() function to consume the iterator value by value. The first call to next() returns the last item from numbers. Then you update the value of the second item from 2 to 222. When you call next() again, you get 222 instead of 2. This is because reversed() doesn’t create a copy of the input iterable. Instead, it works with a reference to it.\n",
        "\n",
        "The reversed() function is great when you want to iterate over a list in reverse order without altering the original list. What if you have a list, and for some reason, you need to reverse its content persistently? In that case, you can use the .reverse() method:"
      ],
      "metadata": {
        "id": "Rrp-CGexcYv2"
      }
    },
    {
      "cell_type": "code",
      "source": [
        "digits = [0, 1, 2, 3, 4, 5, 6, 7, 8, 9]\n",
        "\n",
        "digits.reverse()\n",
        "digits"
      ],
      "metadata": {
        "colab": {
          "base_uri": "https://localhost:8080/"
        },
        "id": "V7o_yyFMcQ4_",
        "outputId": "29cc6d57-bce4-4573-a048-73ab8a1c3fdd"
      },
      "execution_count": 75,
      "outputs": [
        {
          "output_type": "execute_result",
          "data": {
            "text/plain": [
              "[9, 8, 7, 6, 5, 4, 3, 2, 1, 0]"
            ]
          },
          "metadata": {},
          "execution_count": 75
        }
      ]
    },
    {
      "cell_type": "markdown",
      "source": [
        "## Sorting a List: sorted() and .sort()\n",
        "When you need to sort a list of values without altering the original list, you can use the built-in sorted() function. This function takes an iterable of values and returns a list of sorted values:"
      ],
      "metadata": {
        "id": "V6w4uV1echeH"
      }
    },
    {
      "cell_type": "code",
      "source": [
        "numbers = [2, 9, 5, 1, 6]\n",
        "\n",
        "sorted(numbers)"
      ],
      "metadata": {
        "colab": {
          "base_uri": "https://localhost:8080/"
        },
        "id": "3Q5dEHPQcbNJ",
        "outputId": "6139f7b6-27e2-4aac-f5e2-456c7cab9703"
      },
      "execution_count": 76,
      "outputs": [
        {
          "output_type": "execute_result",
          "data": {
            "text/plain": [
              "[1, 2, 5, 6, 9]"
            ]
          },
          "metadata": {},
          "execution_count": 76
        }
      ]
    },
    {
      "cell_type": "code",
      "source": [
        "numbers"
      ],
      "metadata": {
        "colab": {
          "base_uri": "https://localhost:8080/"
        },
        "id": "b3R-8pHxck4Y",
        "outputId": "b05f222a-e8e5-4088-effb-60552454ca19"
      },
      "execution_count": 77,
      "outputs": [
        {
          "output_type": "execute_result",
          "data": {
            "text/plain": [
              "[2, 9, 5, 1, 6]"
            ]
          },
          "metadata": {},
          "execution_count": 77
        }
      ]
    },
    {
      "cell_type": "markdown",
      "source": [
        "When you pass a list to sorted(), you get a list of sorted values as a result. The function doesn’t alter the original data in your list.\n",
        "\n",
        "Note: It’s important to note that sorted() returns a list rather than an iterator. This behavior differs from reversed(), which returns an iterator instead of a list.\n",
        "As you can see in the above example, Python sorts numbers according to their specific values. When it comes to sorting strings, things can be a bit confusing. Consider the following example:"
      ],
      "metadata": {
        "id": "JpaRKsM6crVR"
      }
    },
    {
      "cell_type": "code",
      "source": [
        "words = [\"Hello,\", \"World!\", \"I\", \"am\", \"a\", \"Pythonista!\"]\n",
        "\n",
        "sorted(words)"
      ],
      "metadata": {
        "colab": {
          "base_uri": "https://localhost:8080/"
        },
        "id": "Ma5nQ-yRcmQ0",
        "outputId": "4517c25e-6d12-4ffb-f972-d1feff352d98"
      },
      "execution_count": 78,
      "outputs": [
        {
          "output_type": "execute_result",
          "data": {
            "text/plain": [
              "['Hello,', 'I', 'Pythonista!', 'World!', 'a', 'am']"
            ]
          },
          "metadata": {},
          "execution_count": 78
        }
      ]
    },
    {
      "cell_type": "markdown",
      "source": [
        "What? The sorted list isn’t in alphabetical order. Why? Python sorts strings character by character using each character’s Unicode code point. Because uppercase letters come before lowercase letters in Python’s default character set, UTF-8, you end up with \"Hello\" in the first position and \"am\" in the last.\n",
        "\n",
        "You can use the built-in ord() function to get the Unicode code point of a character in Python:"
      ],
      "metadata": {
        "id": "UyCJiF2NcztA"
      }
    },
    {
      "cell_type": "code",
      "source": [
        "ord(\"H\")"
      ],
      "metadata": {
        "colab": {
          "base_uri": "https://localhost:8080/"
        },
        "id": "wPIVydwlcvhU",
        "outputId": "731ca93b-6d17-4823-a9a7-c6dde7eeb0ef"
      },
      "execution_count": 79,
      "outputs": [
        {
          "output_type": "execute_result",
          "data": {
            "text/plain": [
              "72"
            ]
          },
          "metadata": {},
          "execution_count": 79
        }
      ]
    },
    {
      "cell_type": "code",
      "source": [
        "ord(\"h\")"
      ],
      "metadata": {
        "colab": {
          "base_uri": "https://localhost:8080/"
        },
        "id": "fMjdb0F7c2d6",
        "outputId": "35df6e8e-f6ef-4b86-ed04-a89fe61bcfc0"
      },
      "execution_count": 81,
      "outputs": [
        {
          "output_type": "execute_result",
          "data": {
            "text/plain": [
              "104"
            ]
          },
          "metadata": {},
          "execution_count": 81
        }
      ]
    },
    {
      "cell_type": "markdown",
      "source": [
        "As you can confirm in this code snippet, the uppercase \"H\" comes before the lowercase \"a\" in the Unicode table. That’s why you get \"Hello\" before \"am\" in the above example.\n",
        "\n",
        "By default, the sorted() function sorts the items of a list in ascending order. If you need to sort the items in descending order, then you can use the reverse keyword-only argument. This argument defaults to False. If you set it to True, then you get the data in descending order:"
      ],
      "metadata": {
        "id": "bNtPyOCdc-SX"
      }
    },
    {
      "cell_type": "code",
      "source": [
        "numbers = [2, 9, 5, 1, 6]\n",
        "\n",
        "sorted(numbers, reverse=True)"
      ],
      "metadata": {
        "colab": {
          "base_uri": "https://localhost:8080/"
        },
        "id": "K8zwiiUWc3aj",
        "outputId": "815be813-1708-4e25-8a88-0486601a01d9"
      },
      "execution_count": 82,
      "outputs": [
        {
          "output_type": "execute_result",
          "data": {
            "text/plain": [
              "[9, 6, 5, 2, 1]"
            ]
          },
          "metadata": {},
          "execution_count": 82
        }
      ]
    },
    {
      "cell_type": "markdown",
      "source": [
        "Note: As you already learned, lists can store objects of different types. However, heterogeneous lists often don’t allow you to sort their content:\n",
        "\n",
        "\n",
        "```\n",
        ">>> numbers = [2, \"9\", 5, \"1\", 6]\n",
        "\n",
        ">>> sorted(numbers)\n",
        "Traceback (most recent call last):\n",
        "  File \"<stdin>\", line 1, in <module>\n",
        "TypeError: '<' not supported between instances of 'str' and 'int'\n",
        "In practice, you won’t find heterogeneous lists in many use cases. Sequences of heterogeneous objects are like a database record with a few known and immutable fields. In those cases, using a tuple is a better way to go.\n",
        "```\n",
        "\n"
      ],
      "metadata": {
        "id": "C7A88UbrdGA3"
      }
    },
    {
      "cell_type": "markdown",
      "source": [
        "# Exploring Other Features of Lists\n",
        "Python’s list has an impressive set of features, making it a versatile, flexible, and powerful data structure. So far, you’ve learned about most of these features. You’ve learned to create lists, add and remove items from your lists, traverse existing lists in a loop or comprehension, and much more.\n",
        "\n",
        "In the following sections, you’ll learn about some additional features that make lists even more powerful. You’ll learn how to find items in a list, determine the minimum and maximum values, and get the list’s length. You’ll also explore the details of how Python compares lists to each other.\n",
        "\n",
        "# Finding Items in a List\n",
        "Python has a few tools that allow you to search for values in an existing list. For example, if you only need to quickly determine whether a value is present in a list, but you don’t need to grab the value, then you can use the in or not in operator, which will run a membership test on your list.\n",
        "\n",
        "Note: To learn more about the in and not in operators and how to perform membership tests, check out Python’s “in” and “not in” Operators: Check for Membership. These operators can be pretty useful when you need to check if a Python string contains a substring.\n",
        "As its name suggests, a membership test is a Boolean test that allows you to find out whether an object is a member of a collection of values. The general syntax for membership tests on list objects looks something like this:\n",
        "\n",
        "```\n",
        "item in list_object\n",
        "\n",
        "item not in list_object\n",
        "```\n",
        "\n",
        "\n",
        "The first expression allows you to determine if item is in list_object. It returns True if it finds item in list_object or False otherwise. The second expression works in the opposite way, allowing you to check if item is not in list_object. In this case, you get True if item doesn’t appear in list_object.\n",
        "\n",
        "Here’s how membership tests work in practice:"
      ],
      "metadata": {
        "id": "NryZdoYVdjM1"
      }
    },
    {
      "cell_type": "code",
      "source": [
        "usernames = [\"john\", \"jane\", \"bob\", \"david\", \"eve\"]\n",
        "\n",
        "\"linda\" in usernames\n"
      ],
      "metadata": {
        "colab": {
          "base_uri": "https://localhost:8080/"
        },
        "id": "GvcGfHWGdBJW",
        "outputId": "949b2f35-a6a0-4722-85cb-8ef95e5de66f"
      },
      "execution_count": 83,
      "outputs": [
        {
          "output_type": "execute_result",
          "data": {
            "text/plain": [
              "False"
            ]
          },
          "metadata": {},
          "execution_count": 83
        }
      ]
    },
    {
      "cell_type": "code",
      "source": [
        "\"linda\" not in usernames"
      ],
      "metadata": {
        "colab": {
          "base_uri": "https://localhost:8080/"
        },
        "id": "AIrIi-Kjdwyb",
        "outputId": "6fe0e092-422c-4893-a388-2f4a10687fb4"
      },
      "execution_count": 84,
      "outputs": [
        {
          "output_type": "execute_result",
          "data": {
            "text/plain": [
              "True"
            ]
          },
          "metadata": {},
          "execution_count": 84
        }
      ]
    },
    {
      "cell_type": "markdown",
      "source": [
        "In this example, you have a list of users and want to determine whether some specific users are registered in your system.\n",
        "\n",
        "The first test uses in to check whether the user linda is registered. You get False because that user isn’t registered. The second test uses the not in operator, which returns True as a confirmation that linda isn’t one of your users.\n",
        "\n",
        "The .index() method is another tool that you can use to find a given value in an existing list. This method traverses a list looking for a specified value. If the value is in the list, then the method returns its index. Otherwise, it raises a ValueError exception:"
      ],
      "metadata": {
        "id": "KkaRUKDVd1Zs"
      }
    },
    {
      "cell_type": "code",
      "source": [
        "usernames = [\"john\", \"jane\", \"bob\", \"david\", \"eve\"]\n",
        "\n",
        "usernames.index(\"eve\")"
      ],
      "metadata": {
        "colab": {
          "base_uri": "https://localhost:8080/"
        },
        "id": "rvuBtZCWdyoM",
        "outputId": "3fba8a0f-20b9-4c14-a47a-6eebcace6d89"
      },
      "execution_count": 85,
      "outputs": [
        {
          "output_type": "execute_result",
          "data": {
            "text/plain": [
              "4"
            ]
          },
          "metadata": {},
          "execution_count": 85
        }
      ]
    },
    {
      "cell_type": "code",
      "source": [
        "usernames.index(\"linda\")"
      ],
      "metadata": {
        "colab": {
          "base_uri": "https://localhost:8080/",
          "height": 144
        },
        "id": "iSdJeSfnd33D",
        "outputId": "858b2c2f-0e3e-453c-925d-623f4d00d06d"
      },
      "execution_count": 86,
      "outputs": [
        {
          "output_type": "error",
          "ename": "ValueError",
          "evalue": "'linda' is not in list",
          "traceback": [
            "\u001b[0;31m---------------------------------------------------------------------------\u001b[0m",
            "\u001b[0;31mValueError\u001b[0m                                Traceback (most recent call last)",
            "\u001b[0;32m<ipython-input-86-b81ef8d97af1>\u001b[0m in \u001b[0;36m<cell line: 1>\u001b[0;34m()\u001b[0m\n\u001b[0;32m----> 1\u001b[0;31m \u001b[0musernames\u001b[0m\u001b[0;34m.\u001b[0m\u001b[0mindex\u001b[0m\u001b[0;34m(\u001b[0m\u001b[0;34m\"linda\"\u001b[0m\u001b[0;34m)\u001b[0m\u001b[0;34m\u001b[0m\u001b[0;34m\u001b[0m\u001b[0m\n\u001b[0m",
            "\u001b[0;31mValueError\u001b[0m: 'linda' is not in list"
          ]
        }
      ]
    },
    {
      "cell_type": "markdown",
      "source": [
        "In the first call to .index(), you get the index where you can find the user named \"eve\". You can use this index later in your code to access the actual object as needed. In the second call, because the user \"linda\" isn’t in the list, you get a ValueError with an explanatory message.\n",
        "\n",
        "Note that if your search’s target value appears several times in the list, then .index() will return the index of the first occurrence:"
      ],
      "metadata": {
        "id": "BxIrd2LneCA3"
      }
    },
    {
      "cell_type": "code",
      "source": [
        "sample = [12, 11, 10, 50, 14, 12, 50]\n",
        "\n",
        "sample.index(12)"
      ],
      "metadata": {
        "colab": {
          "base_uri": "https://localhost:8080/"
        },
        "id": "fb3IG4S7d5hT",
        "outputId": "775be929-8b29-4f3d-b85a-4b5b4720cb76"
      },
      "execution_count": 87,
      "outputs": [
        {
          "output_type": "execute_result",
          "data": {
            "text/plain": [
              "0"
            ]
          },
          "metadata": {},
          "execution_count": 87
        }
      ]
    },
    {
      "cell_type": "code",
      "source": [
        "sample.index(50)"
      ],
      "metadata": {
        "colab": {
          "base_uri": "https://localhost:8080/"
        },
        "id": "hp7QXyCYeFxx",
        "outputId": "d099e71b-52dc-465a-861c-17c973531465"
      },
      "execution_count": 88,
      "outputs": [
        {
          "output_type": "execute_result",
          "data": {
            "text/plain": [
              "3"
            ]
          },
          "metadata": {},
          "execution_count": 88
        }
      ]
    },
    {
      "cell_type": "markdown",
      "source": [
        "The .index() method returns as soon as it finds the input value in the underlying list. So, if the value occurs many times, then .index() always returns the index of the first occurrence.\n",
        "\n",
        "Lists provide yet another method that you can use for searching purposes. The method is called .count(), and it allows you to check how many times a given value is present in a list:"
      ],
      "metadata": {
        "id": "59hfCTlXeOzT"
      }
    },
    {
      "cell_type": "code",
      "source": [
        "sample = [12, 11, 10, 50, 14, 12, 50]\n",
        "\n",
        "sample.count(12)"
      ],
      "metadata": {
        "colab": {
          "base_uri": "https://localhost:8080/"
        },
        "id": "TXGJUm5teHr3",
        "outputId": "f320d42d-9f98-40d3-e03f-104e8b3f14bc"
      },
      "execution_count": 89,
      "outputs": [
        {
          "output_type": "execute_result",
          "data": {
            "text/plain": [
              "2"
            ]
          },
          "metadata": {},
          "execution_count": 89
        }
      ]
    },
    {
      "cell_type": "code",
      "source": [
        "sample.count(11)"
      ],
      "metadata": {
        "colab": {
          "base_uri": "https://localhost:8080/"
        },
        "id": "PcCODB0MeTW9",
        "outputId": "fcd3c7cc-4829-46b9-933b-dc6b84ad4139"
      },
      "execution_count": 90,
      "outputs": [
        {
          "output_type": "execute_result",
          "data": {
            "text/plain": [
              "1"
            ]
          },
          "metadata": {},
          "execution_count": 90
        }
      ]
    },
    {
      "cell_type": "markdown",
      "source": [
        "The .count() method takes an item as an argument and returns the number of times the input item appears in the underlying list. If the item isn’t in the list, then you get 0.\n",
        "\n",
        "Searching for a specific value in a Python list isn’t a cheap operation. The time complexity of .index(), .count(), and membership tests on lists is O(n). Such linear complexity may be okay if you don’t need to perform many lookups. However, it can negatively impact performance if you need to run many of these operations.\n",
        "\n",
        "## Getting the Length, Maximum, and Minimum of a List\n",
        "While working with Python lists, you’ll face the need to obtain descriptive information about a given list. For example, you may want to know the number of items in the list, which is known as the list’s length. You may also want to determine the greatest and lowest values in the list. In all these cases, Python has you covered.\n",
        "\n",
        "To determine the length of a list, you’ll use the built-in len() function. In the following example, you use this function as an intermediate step to calculate the average grade of a student:"
      ],
      "metadata": {
        "id": "e2h23itoeY2c"
      }
    },
    {
      "cell_type": "code",
      "source": [
        "grades = [80, 97, 86, 100, 98, 82]\n",
        "n = len(grades)\n",
        "sum(grades) / n"
      ],
      "metadata": {
        "colab": {
          "base_uri": "https://localhost:8080/"
        },
        "id": "JuYqdsByeVKT",
        "outputId": "e276bb11-6f9c-44e2-c137-a351215ece1e"
      },
      "execution_count": 91,
      "outputs": [
        {
          "output_type": "execute_result",
          "data": {
            "text/plain": [
              "90.5"
            ]
          },
          "metadata": {},
          "execution_count": 91
        }
      ]
    },
    {
      "cell_type": "markdown",
      "source": [
        "Another frequent task that you’ll perform on lists, especially on lists of numeric values, is to find the minimum and maximum values. To do this, you can take advantage of the built-in min() and max() functions:"
      ],
      "metadata": {
        "id": "QlP4NXGAeiu9"
      }
    },
    {
      "cell_type": "code",
      "source": [
        "min([3, 5, 9, 1, -5])"
      ],
      "metadata": {
        "colab": {
          "base_uri": "https://localhost:8080/"
        },
        "id": "CmPBQZUjeefv",
        "outputId": "abf7fbef-1dc9-48fe-e9d3-225946767851"
      },
      "execution_count": 92,
      "outputs": [
        {
          "output_type": "execute_result",
          "data": {
            "text/plain": [
              "-5"
            ]
          },
          "metadata": {},
          "execution_count": 92
        }
      ]
    },
    {
      "cell_type": "code",
      "source": [
        "max([3, 5, 9, 1, -5])"
      ],
      "metadata": {
        "colab": {
          "base_uri": "https://localhost:8080/"
        },
        "id": "Ipy7CYUvelpB",
        "outputId": "65db9ee1-b612-4f69-ee1c-03db8fdfabcb"
      },
      "execution_count": 93,
      "outputs": [
        {
          "output_type": "execute_result",
          "data": {
            "text/plain": [
              "9"
            ]
          },
          "metadata": {},
          "execution_count": 93
        }
      ]
    },
    {
      "cell_type": "markdown",
      "source": [
        "## Common Gotchas of Python Lists\n",
        "If you’re new to Python and are starting with lists, then you’ll want to be on the lookout for a few gotchas that can cause subtle issues in your code. Up to this point, you’ve learned what you need in order to understand most of these gotchas, so here’s a summary of the most common ones:\n",
        "\n",
        "**Confusing aliases of a list with copies**: This can cause issues because changes to one alias affect others. Take a look at the Aliases of a List section for practical examples of this issue.\n",
        "**Forgetting that most list methods mutate the list in place and return None rather than a new list**: This commonly leads to issues when you assign the return value of a list method to a variable, thinking that you have a new list, but you really get None. Check out the Reversing and Sorting Lists section for practical examples of this gotcha.\n",
        "**Confusing .append() with .extend()**: This can cause issues because .append() adds a single item to the end of the list, while the .extend() method unpacks and adds multiple items. Have a look at the Growing and Shrinking Lists Dynamically section for details on how these methods work.\n",
        "**Using an empty list as a default argument value in function definitions**: This can lead to unexpected behaviors because default argument values get defined when Python first parses the function."
      ],
      "metadata": {
        "id": "n5YeFMhnexNi"
      }
    },
    {
      "cell_type": "code",
      "source": [],
      "metadata": {
        "id": "uOxnAOlSenRJ"
      },
      "execution_count": null,
      "outputs": []
    }
  ]
}