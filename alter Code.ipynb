{
 "cells": [
  {
   "cell_type": "code",
   "execution_count": null,
   "id": "initial_id",
   "metadata": {
    "collapsed": true
   },
   "outputs": [],
   "source": [
    "import matplotlib.pyplot as plt\n",
    "import seaborn as sns\n",
    "\n",
    "# Convert target and relevant features to categorical for better visualization\n",
    "df['AccidentSeverityCategory'] = df['AccidentSeverityCategory'].astype('category')\n",
    "df['AccidentType'] = df['AccidentType'].astype('category')\n",
    "df['AccidentWeekDay'] = df['AccidentWeekDay'].astype('category')\n",
    "df['AccidentHour'] = df['AccidentHour'].fillna(df['AccidentHour'].median())  # Handling missing values in AccidentHour\n",
    "\n",
    "# 1. Verteilung der Unfalltypen (AccidentType) in Bezug auf die Unfallschwere\n",
    "plt.figure(figsize=(12, 6))\n",
    "sns.countplot(data=df, x='AccidentType', hue='AccidentSeverityCategory', order=df['AccidentType'].value_counts().index)\n",
    "plt.title('Accident Type vs Accident Severity')\n",
    "plt.xticks(rotation=90)\n",
    "plt.tight_layout()\n",
    "plt.show()\n",
    "\n",
    "# 2. Einfluss der Unfallstunde (AccidentHour) auf die Unfallschwere\n",
    "plt.figure(figsize=(12, 6))\n",
    "sns.boxplot(x='AccidentSeverityCategory', y='AccidentHour', data=df)\n",
    "plt.title('Accident Hour vs Accident Severity')\n",
    "plt.tight_layout()\n",
    "plt.show()\n",
    "\n",
    "# 3. Unfalltypen nach Wochentagen und deren Schwere\n",
    "plt.figure(figsize=(12, 6))\n",
    "sns.countplot(data=df, x='AccidentWeekDay', hue='AccidentSeverityCategory', order=df['AccidentWeekDay'].value_counts().index)\n",
    "plt.title('Accident Weekday vs Accident Severity')\n",
    "plt.xticks(rotation=90)\n",
    "plt.tight_layout()\n",
    "plt.show()\n",
    "\n",
    "# 4. Unfälle mit Beteiligung von Fußgängern, Fahrrädern, Motorrädern vs. Unfallschwere\n",
    "plt.figure(figsize=(12, 6))\n",
    "sns.countplot(data=df, x='AccidentSeverityCategory', hue='AccidentInvolvingPedestrian', palette='Set2')\n",
    "plt.title('Accidents Involving Pedestrians by Severity')\n",
    "plt.tight_layout()\n",
    "plt.show()\n",
    "\n",
    "plt.figure(figsize=(12, 6))\n",
    "sns.countplot(data=df, x='AccidentSeverityCategory', hue='AccidentInvolvingBicycle', palette='Set2')\n",
    "plt.title('Accidents Involving Bicycles by Severity')\n",
    "plt.tight_layout()\n",
    "plt.show()\n",
    "\n",
    "plt.figure(figsize=(12, 6))\n",
    "sns.countplot(data=df, x='AccidentSeverityCategory', hue='AccidentInvolvingMotorcycle', palette='Set2')\n",
    "plt.title('Accidents Involving Motorcycles by Severity')\n",
    "plt.tight_layout()\n",
    "plt.show()\n"
   ]
  },
  {
   "metadata": {},
   "cell_type": "code",
   "outputs": [],
   "execution_count": null,
   "source": [
    "import matplotlib.pyplot as plt\n",
    "import seaborn as sns\n",
    "\n",
    "# Define a function to plot counts or distributions for each column\n",
    "def plot_column_counts(df):\n",
    "    for column in df.columns:\n",
    "        plt.figure(figsize=(10, 6))\n",
    "        \n",
    "        # Check if the column is categorical or numerical\n",
    "        if df[column].dtype == 'object' or df[column].dtype.name == 'category' or df[column].dtype == 'bool':\n",
    "            # Categorical daata: use countplot without the palette warning\n",
    "            sns.countplot(data=df, x=column, order=df[column].value_counts().index)\n",
    "            plt.title(f'Counts of {column}')\n",
    "            plt.xticks(rotation=90)\n",
    "        else:\n",
    "            # Numerical data: use histogram\n",
    "            sns.histplot(df[column], kde=True, bins=30, color='skyblue')\n",
    "            plt.title(f'Distribution of {column}')\n",
    "        \n",
    "        plt.tight_layout()\n",
    "        plt.show()\n",
    "\n",
    "# Call the function to plot for all columns\n",
    "plot_column_counts(df)\n"
   ],
   "id": "6a74bfc2accadd4c"
  }
 ],
 "metadata": {
  "kernelspec": {
   "display_name": "Python 3",
   "language": "python",
   "name": "python3"
  },
  "language_info": {
   "codemirror_mode": {
    "name": "ipython",
    "version": 2
   },
   "file_extension": ".py",
   "mimetype": "text/x-python",
   "name": "python",
   "nbconvert_exporter": "python",
   "pygments_lexer": "ipython2",
   "version": "2.7.6"
  }
 },
 "nbformat": 4,
 "nbformat_minor": 5
}
